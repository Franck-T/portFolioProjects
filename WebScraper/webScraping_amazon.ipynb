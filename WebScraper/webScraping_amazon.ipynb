{
  "nbformat": 4,
  "nbformat_minor": 0,
  "metadata": {
    "colab": {
      "provenance": []
    },
    "kernelspec": {
      "name": "python3",
      "display_name": "Python 3"
    },
    "language_info": {
      "name": "python"
    }
  },
  "cells": [
    {
      "cell_type": "code",
      "execution_count": 2,
      "metadata": {
        "id": "53czmC8ejr30"
      },
      "outputs": [],
      "source": [
        "# import libraries\n",
        "\n",
        "from bs4 import BeautifulSoup\n",
        "import requests\n",
        "import time\n",
        "import datetime\n",
        "\n",
        "import smtplib\n",
        "\n",
        "import datetime\n",
        "import csv\n"
      ]
    },
    {
      "cell_type": "code",
      "source": [
        "#from _typeshed import NoneType\n",
        "# Connect to Website and pull in data\n",
        "\n",
        "URL = 'https://www.amazon.com/Karlywindow-Sleeve-Henley-Cotton-Henleys/dp/B07FYCV6LD/ref=sr_1_2?crid=QXFR27J38ZLR&keywords=ai+t+shirt&qid=1697916136&sprefix=ai+t+shirt%2Caps%2C376&sr=8-2'\n",
        "\n",
        "headers = {\"User-Agent\": \"Mozilla/5.0 (Windows NT 10.0; Win64; x64) AppleWebKit/537.36 (KHTML, like Gecko) Chrome/118.0.0.0 Safari/537.36\", \"Accept-Encoding\":\"gzip, deflate\", \"Accept\":\"text/html,application/xhtml+xml,application/xml;q=0.9,*/*;q=0.8\", \"DNT\":\"1\",\"Connection\":\"close\", \"Upgrade-Insecure-Requests\":\"1\"}\n",
        "\n",
        "page = requests.get(URL, headers=headers)\n",
        "\n",
        "soup1 = BeautifulSoup(page.content, \"html.parser\")\n",
        "\n",
        "soup2 = BeautifulSoup(soup1.prettify(), \"html.parser\")\n",
        "\n",
        "title = soup2.find(id='productTitle').get_text()\n",
        "\n",
        "price=\"\";\n",
        "\n",
        "price = soup2.find(class_=\"a-offscreen\").get_text()\n",
        "\n",
        "print(title)\n",
        "print(price)"
      ],
      "metadata": {
        "colab": {
          "base_uri": "https://localhost:8080/"
        },
        "id": "SpyEVSPPrHJb",
        "outputId": "6c90c1ab-67fd-4c56-fffb-80cfe030f8e4"
      },
      "execution_count": 3,
      "outputs": [
        {
          "output_type": "stream",
          "name": "stdout",
          "text": [
            "\n",
            "                    Karlywindow Mens Linen Henley Shirts Long Sleeve Hippie Yoga Summer Beach Casual Henleys T-Shirt\n",
            "                   \n",
            "\n",
            "                       $14.99\n",
            "                      \n"
          ]
        }
      ]
    },
    {
      "cell_type": "code",
      "source": [
        "# Clean up the data a little bit\n",
        "\n",
        "price = price.strip()[1:]\n",
        "title = title.strip()\n",
        "\n",
        "print(title)\n",
        "print(price)"
      ],
      "metadata": {
        "colab": {
          "base_uri": "https://localhost:8080/"
        },
        "id": "rKY1NJXh-f83",
        "outputId": "93db8a76-51a8-4f91-bd4b-dfccd6fda27d"
      },
      "execution_count": 4,
      "outputs": [
        {
          "output_type": "stream",
          "name": "stdout",
          "text": [
            "Karlywindow Mens Linen Henley Shirts Long Sleeve Hippie Yoga Summer Beach Casual Henleys T-Shirt\n",
            "14.99\n"
          ]
        }
      ]
    },
    {
      "cell_type": "code",
      "source": [
        "# Create a Timestamp for your output to track when data was collected\n",
        "\n",
        "import datetime\n",
        "\n",
        "today = datetime.date.today()\n",
        "\n",
        "print(today)"
      ],
      "metadata": {
        "colab": {
          "base_uri": "https://localhost:8080/"
        },
        "id": "SAA5CNIs-yJs",
        "outputId": "36603afe-0855-4103-d4e7-988b34f9a3a0"
      },
      "execution_count": 5,
      "outputs": [
        {
          "output_type": "stream",
          "name": "stdout",
          "text": [
            "2025-03-16\n"
          ]
        }
      ]
    },
    {
      "cell_type": "code",
      "source": [
        "# Create CSV and write headers and data into the file\n",
        "\n",
        "import csv\n",
        "\n",
        "header = ['Title', 'Price', 'Date']\n",
        "data = [title, price, today]\n",
        "\n",
        "\n",
        "with open('AmazonWebScraperDataset.csv', 'w', newline='', encoding='UTF8') as f:\n",
        "    writer = csv.writer(f)\n",
        "    writer.writerow(header)\n",
        "    writer.writerow(data)"
      ],
      "metadata": {
        "id": "4VnjfHjs-5t3"
      },
      "execution_count": 6,
      "outputs": []
    },
    {
      "cell_type": "code",
      "source": [
        "import pandas as pd\n",
        "\n",
        "df = pd.read_csv(r'/content/AmazonWebScraperDataset.csv')\n",
        "\n",
        "print(df)"
      ],
      "metadata": {
        "colab": {
          "base_uri": "https://localhost:8080/"
        },
        "id": "Lmi629YAAjEd",
        "outputId": "3ee7684c-8f3a-4eb2-cf92-e0ae0ec52ec0"
      },
      "execution_count": 7,
      "outputs": [
        {
          "output_type": "stream",
          "name": "stdout",
          "text": [
            "                                               Title  Price        Date\n",
            "0  Karlywindow Mens Linen Henley Shirts Long Slee...  14.99  2025-03-16\n"
          ]
        }
      ]
    },
    {
      "cell_type": "code",
      "source": [
        "#Now we are appending data to the csv\n",
        "\n",
        "with open('AmazonWebScraperDataset.csv', 'a+', newline='', encoding='UTF8') as f:\n",
        "    writer = csv.writer(f)\n",
        "    writer.writerow(data)"
      ],
      "metadata": {
        "id": "1yPW3z_aBAOd"
      },
      "execution_count": 8,
      "outputs": []
    },
    {
      "cell_type": "code",
      "source": [
        "#Combine all of the above code into one function\n",
        "\n",
        "\n",
        "def check_price():\n",
        "  URL = 'https://www.amazon.com/Karlywindow-Sleeve-Henley-Cotton-Henleys/dp/B07FYCV6LD/ref=sr_1_2?crid=QXFR27J38ZLR&keywords=ai+t+shirt&qid=1697916136&sprefix=ai+t+shirt%2Caps%2C376&sr=8-2'\n",
        "\n",
        "  headers = {\"User-Agent\": \"Mozilla/5.0 (Windows NT 10.0; Win64; x64) AppleWebKit/537.36 (KHTML, like Gecko) Chrome/118.0.0.0 Safari/537.36\", \"Accept-Encoding\":\"gzip, deflate\", \"Accept\":\"text/html,application/xhtml+xml,application/xml;q=0.9,*/*;q=0.8\", \"DNT\":\"1\",\"Connection\":\"close\", \"Upgrade-Insecure-Requests\":\"1\"}\n",
        "\n",
        "  page = requests.get(URL, headers=headers)\n",
        "\n",
        "  soup1 = BeautifulSoup(page.content, \"html.parser\")\n",
        "\n",
        "  soup2 = BeautifulSoup(soup1.prettify(), \"html.parser\")\n",
        "\n",
        "  title = soup2.find(id='productTitle').get_text()\n",
        "\n",
        "  price=\"\";\n",
        "\n",
        "  price = soup2.find(class_=\"a-offscreen\").get_text()\n",
        "\n",
        "  today = datetime.date.today()\n",
        "\n",
        "\n",
        "  header = ['Title', 'Price', 'Date']\n",
        "  data = [title, price, today]\n",
        "\n",
        "  with open('AmazonWebScraperDataset.csv', 'a+', newline='', encoding='UTF8') as f:\n",
        "    writer = csv.writer(f)\n",
        "    writer.writerow(data)\n"
      ],
      "metadata": {
        "id": "JFkAer78BGD_"
      },
      "execution_count": 9,
      "outputs": []
    },
    {
      "cell_type": "code",
      "source": [
        "# Runs check_price after a set time and inputs data into your CSV\n",
        "\n",
        "counter=1\n",
        "while(counter<=10):\n",
        "    check_price()\n",
        "    time.sleep(10) #86400\n",
        "    counter+=1"
      ],
      "metadata": {
        "id": "B3GOobwfCfvH"
      },
      "execution_count": 10,
      "outputs": []
    },
    {
      "cell_type": "code",
      "source": [
        "import pandas as pd\n",
        "\n",
        "df = pd.read_csv(r'/content/AmazonWebScraperDataset.csv')\n",
        "\n",
        "print(df)"
      ],
      "metadata": {
        "colab": {
          "base_uri": "https://localhost:8080/"
        },
        "id": "azzhiNdzCzy3",
        "outputId": "fd85f5d8-7f9d-4e5a-a48e-6690500acf7a"
      },
      "execution_count": 11,
      "outputs": [
        {
          "output_type": "stream",
          "name": "stdout",
          "text": [
            "                                                Title  \\\n",
            "0   Karlywindow Mens Linen Henley Shirts Long Slee...   \n",
            "1   Karlywindow Mens Linen Henley Shirts Long Slee...   \n",
            "2   \\n                    Karlywindow Mens Linen H...   \n",
            "3   \\n                    Karlywindow Mens Linen H...   \n",
            "4   \\n                    Karlywindow Mens Linen H...   \n",
            "5   \\n                    Karlywindow Mens Linen H...   \n",
            "6   \\n                    Karlywindow Mens Linen H...   \n",
            "7   \\n                    Karlywindow Mens Linen H...   \n",
            "8   \\n                    Karlywindow Mens Linen H...   \n",
            "9   \\n                    Karlywindow Mens Linen H...   \n",
            "10  \\n                    Karlywindow Mens Linen H...   \n",
            "11  \\n                    Karlywindow Mens Linen H...   \n",
            "\n",
            "                                                Price        Date  \n",
            "0                                               14.99  2025-03-16  \n",
            "1                                               14.99  2025-03-16  \n",
            "2   \\n                       $14.99\\n             ...  2025-03-16  \n",
            "3   \\n                       $14.99\\n             ...  2025-03-16  \n",
            "4   \\n                       $14.99\\n             ...  2025-03-16  \n",
            "5   \\n                       $14.99\\n             ...  2025-03-16  \n",
            "6   \\n                       $14.99\\n             ...  2025-03-16  \n",
            "7   \\n                       $14.99\\n             ...  2025-03-16  \n",
            "8   \\n                       $14.99\\n             ...  2025-03-16  \n",
            "9   \\n                       $14.99\\n             ...  2025-03-16  \n",
            "10  \\n                       $14.99\\n             ...  2025-03-16  \n",
            "11  \\n                       $14.99\\n             ...  2025-03-16  \n"
          ]
        }
      ]
    },
    {
      "cell_type": "code",
      "source": [
        "# If you want to try sending yourself an email (just for fun) when a price hits below a certain level you can try it\n",
        "# out with this script\n",
        "\n",
        "\n",
        "#import ssl\n",
        "\n",
        "def send_mail():\n",
        "    server = smtplib.SMTP_SSL('smtp.gmail.com',465)\n",
        "    server.ehlo()\n",
        "    #server.starttls()\n",
        "    #server.ehlo()\n",
        "    #sender\n",
        "    pass_=\"your password\"\n",
        "    server.login('your email address',pass_)\n",
        "\n",
        "    subject = \"The Shirt you want is below $30! Now is your chance to buy!\"\n",
        "    body = \"Franck, This is the moment we have been waiting for. Now is your chance to pick up the shirt of your dreams. Don't mess it up! Link here:\"+URL\n",
        "\n",
        "    msg = f\"Subject: {subject}\\n\\n{body}\"\n",
        "\n",
        "    server.sendmail(\n",
        "        'youremailaddress@gmail.com', # email address of the sender, in this case, your own email address\n",
        "        'youremailaddress@gmail.com', # email address of the receiver, in this case, your own email address\n",
        "        msg\n",
        "\n",
        "    )\n",
        "\n",
        "    #context = ssl.create_default_context()\n",
        "\n",
        "    #with smtplib.SMTP_SSL(\"smtp.gmail.com\", port, context=context) as server:\n",
        "    #  server.login(\"sender@xyz.com\", app_password)\n",
        "    #  server.sendmail(sender_email, receiver_email, message)\n",
        "\n"
      ],
      "metadata": {
        "id": "RNyNOD0DDlrK"
      },
      "execution_count": null,
      "outputs": []
    },
    {
      "cell_type": "code",
      "source": [
        "send_mail()"
      ],
      "metadata": {
        "id": "NeVDUec2OmFu"
      },
      "execution_count": null,
      "outputs": []
    },
    {
      "cell_type": "code",
      "source": [],
      "metadata": {
        "id": "ge08EW1pOzyi"
      },
      "execution_count": null,
      "outputs": []
    }
  ]
}