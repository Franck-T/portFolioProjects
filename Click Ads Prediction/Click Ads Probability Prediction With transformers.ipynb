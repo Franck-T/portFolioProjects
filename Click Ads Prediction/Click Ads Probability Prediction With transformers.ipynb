{
  "cells": [
    {
      "cell_type": "markdown",
      "source": [
        "<h2> Click Ads Probability Prediction using a Transformer.</h2>\n"
      ],
      "metadata": {
        "id": "nwFcggKtEdYL"
      }
    },
    {
      "cell_type": "markdown",
      "source": [
        "<p>In this notebook, we are going to implement a transformer architecture. Only the decoder side on the transfomer to apply it to a click Ads probability prediction problem.</p>\n",
        "<p> For such we will use as well a batchembedding class that will create an a cross embedding of all the features to be used in our dataset in order to form a representation that will be used to carry out the prediction.</p>\n",
        "<p>The idea is that the model is to pay attention to the most relevant features that are necessary to predict the Click and as well provide an ability to determine the probability of a click even if all the features are not present.</p>\n",
        "<p> Without further ado , let's dive into it.<p>"
      ],
      "metadata": {
        "id": "1g5uBqcBErPC"
      }
    },
    {
      "cell_type": "markdown",
      "source": [
        "<h3> Importing the necessary libraries</h3>"
      ],
      "metadata": {
        "id": "oNfN0ol7Gf0z"
      }
    },
    {
      "cell_type": "code",
      "execution_count": null,
      "metadata": {
        "id": "ZWsm5zHoPaxU"
      },
      "outputs": [],
      "source": [
        "import logging\n",
        "import time\n",
        "\n",
        "import numpy as np\n",
        "import matplotlib.pyplot as plt\n",
        "\n",
        "import tensorflow_datasets as tfds\n",
        "import tensorflow as tf\n",
        "from tensorflow import keras\n",
        "\n",
        "\n",
        "import os\n",
        "import tempfile\n",
        "\n",
        "import pandas as pd\n",
        "import datetime as dt\n",
        "from matplotlib import pyplot as plt\n",
        "import seaborn as sns\n",
        "import imblearn\n",
        "\n",
        "import sklearn\n"
      ]
    },
    {
      "cell_type": "code",
      "execution_count": null,
      "metadata": {
        "colab": {
          "base_uri": "https://localhost:8080/"
        },
        "id": "wxCsTKD55Zz_",
        "outputId": "032bcfcd-5b05-4327-f67a-2a69d2d715ae"
      },
      "outputs": [
        {
          "name": "stdout",
          "output_type": "stream",
          "text": [
            "Drive already mounted at /content/drive; to attempt to forcibly remount, call drive.mount(\"/content/drive\", force_remount=True).\n"
          ]
        }
      ],
      "source": [
        "from google.colab import drive\n",
        "drive.mount('/content/drive')"
      ]
    },
    {
      "cell_type": "markdown",
      "source": [
        "<p> Let's load our dataset.</p>"
      ],
      "metadata": {
        "id": "rpLB-wTyGsWs"
      }
    },
    {
      "cell_type": "code",
      "execution_count": null,
      "metadata": {
        "colab": {
          "base_uri": "https://localhost:8080/",
          "height": 244
        },
        "id": "NkE5o_94ILhc",
        "outputId": "d9d7098d-3558-4247-ebc9-f9c8643bfd15"
      },
      "outputs": [
        {
          "output_type": "execute_result",
          "data": {
            "text/plain": [
              "   Unnamed: 0                            ID        ActionTime Action  \\\n",
              "0           1  AMsySZbNg8SBwPtj7IGHnip_8aY0  1508761859495365   View   \n",
              "1           2  AMsySZZcUFNGOJs-lfC9j-ZDlV7Z  1502847469736117   View   \n",
              "2           3  AMsySZYoK8_bD0hGv4zu0iRn1TFo  1514169431528120   View   \n",
              "3           4  AMsySZahxpwLOWnMJj6RGATgwEOc  1515527952591896   View   \n",
              "4           5  AMsySZbqgfMBDtAqZz1jVRaOmX00  1507514809374045   View   \n",
              "\n",
              "         Website BannerSize     Brand  colour  InteractionTime  \n",
              "0       Facebook    300x600  Carter's    Pink         0.171601  \n",
              "1       Facebook    300x250  Burberry     Red         4.303945  \n",
              "2       Facebook     728x90    Disney  Yellow         0.868106  \n",
              "3       Facebook     320x50  Carter's  Yellow         0.802647  \n",
              "4  instagram.com    300x250       Gap    Gold         0.627148  "
            ],
            "text/html": [
              "\n",
              "  <div id=\"df-a3992c37-9b75-41e6-a13a-9b54e429594e\" class=\"colab-df-container\">\n",
              "    <div>\n",
              "<style scoped>\n",
              "    .dataframe tbody tr th:only-of-type {\n",
              "        vertical-align: middle;\n",
              "    }\n",
              "\n",
              "    .dataframe tbody tr th {\n",
              "        vertical-align: top;\n",
              "    }\n",
              "\n",
              "    .dataframe thead th {\n",
              "        text-align: right;\n",
              "    }\n",
              "</style>\n",
              "<table border=\"1\" class=\"dataframe\">\n",
              "  <thead>\n",
              "    <tr style=\"text-align: right;\">\n",
              "      <th></th>\n",
              "      <th>Unnamed: 0</th>\n",
              "      <th>ID</th>\n",
              "      <th>ActionTime</th>\n",
              "      <th>Action</th>\n",
              "      <th>Website</th>\n",
              "      <th>BannerSize</th>\n",
              "      <th>Brand</th>\n",
              "      <th>colour</th>\n",
              "      <th>InteractionTime</th>\n",
              "    </tr>\n",
              "  </thead>\n",
              "  <tbody>\n",
              "    <tr>\n",
              "      <th>0</th>\n",
              "      <td>1</td>\n",
              "      <td>AMsySZbNg8SBwPtj7IGHnip_8aY0</td>\n",
              "      <td>1508761859495365</td>\n",
              "      <td>View</td>\n",
              "      <td>Facebook</td>\n",
              "      <td>300x600</td>\n",
              "      <td>Carter's</td>\n",
              "      <td>Pink</td>\n",
              "      <td>0.171601</td>\n",
              "    </tr>\n",
              "    <tr>\n",
              "      <th>1</th>\n",
              "      <td>2</td>\n",
              "      <td>AMsySZZcUFNGOJs-lfC9j-ZDlV7Z</td>\n",
              "      <td>1502847469736117</td>\n",
              "      <td>View</td>\n",
              "      <td>Facebook</td>\n",
              "      <td>300x250</td>\n",
              "      <td>Burberry</td>\n",
              "      <td>Red</td>\n",
              "      <td>4.303945</td>\n",
              "    </tr>\n",
              "    <tr>\n",
              "      <th>2</th>\n",
              "      <td>3</td>\n",
              "      <td>AMsySZYoK8_bD0hGv4zu0iRn1TFo</td>\n",
              "      <td>1514169431528120</td>\n",
              "      <td>View</td>\n",
              "      <td>Facebook</td>\n",
              "      <td>728x90</td>\n",
              "      <td>Disney</td>\n",
              "      <td>Yellow</td>\n",
              "      <td>0.868106</td>\n",
              "    </tr>\n",
              "    <tr>\n",
              "      <th>3</th>\n",
              "      <td>4</td>\n",
              "      <td>AMsySZahxpwLOWnMJj6RGATgwEOc</td>\n",
              "      <td>1515527952591896</td>\n",
              "      <td>View</td>\n",
              "      <td>Facebook</td>\n",
              "      <td>320x50</td>\n",
              "      <td>Carter's</td>\n",
              "      <td>Yellow</td>\n",
              "      <td>0.802647</td>\n",
              "    </tr>\n",
              "    <tr>\n",
              "      <th>4</th>\n",
              "      <td>5</td>\n",
              "      <td>AMsySZbqgfMBDtAqZz1jVRaOmX00</td>\n",
              "      <td>1507514809374045</td>\n",
              "      <td>View</td>\n",
              "      <td>instagram.com</td>\n",
              "      <td>300x250</td>\n",
              "      <td>Gap</td>\n",
              "      <td>Gold</td>\n",
              "      <td>0.627148</td>\n",
              "    </tr>\n",
              "  </tbody>\n",
              "</table>\n",
              "</div>\n",
              "    <div class=\"colab-df-buttons\">\n",
              "\n",
              "  <div class=\"colab-df-container\">\n",
              "    <button class=\"colab-df-convert\" onclick=\"convertToInteractive('df-a3992c37-9b75-41e6-a13a-9b54e429594e')\"\n",
              "            title=\"Convert this dataframe to an interactive table.\"\n",
              "            style=\"display:none;\">\n",
              "\n",
              "  <svg xmlns=\"http://www.w3.org/2000/svg\" height=\"24px\" viewBox=\"0 -960 960 960\">\n",
              "    <path d=\"M120-120v-720h720v720H120Zm60-500h600v-160H180v160Zm220 220h160v-160H400v160Zm0 220h160v-160H400v160ZM180-400h160v-160H180v160Zm440 0h160v-160H620v160ZM180-180h160v-160H180v160Zm440 0h160v-160H620v160Z\"/>\n",
              "  </svg>\n",
              "    </button>\n",
              "\n",
              "  <style>\n",
              "    .colab-df-container {\n",
              "      display:flex;\n",
              "      gap: 12px;\n",
              "    }\n",
              "\n",
              "    .colab-df-convert {\n",
              "      background-color: #E8F0FE;\n",
              "      border: none;\n",
              "      border-radius: 50%;\n",
              "      cursor: pointer;\n",
              "      display: none;\n",
              "      fill: #1967D2;\n",
              "      height: 32px;\n",
              "      padding: 0 0 0 0;\n",
              "      width: 32px;\n",
              "    }\n",
              "\n",
              "    .colab-df-convert:hover {\n",
              "      background-color: #E2EBFA;\n",
              "      box-shadow: 0px 1px 2px rgba(60, 64, 67, 0.3), 0px 1px 3px 1px rgba(60, 64, 67, 0.15);\n",
              "      fill: #174EA6;\n",
              "    }\n",
              "\n",
              "    .colab-df-buttons div {\n",
              "      margin-bottom: 4px;\n",
              "    }\n",
              "\n",
              "    [theme=dark] .colab-df-convert {\n",
              "      background-color: #3B4455;\n",
              "      fill: #D2E3FC;\n",
              "    }\n",
              "\n",
              "    [theme=dark] .colab-df-convert:hover {\n",
              "      background-color: #434B5C;\n",
              "      box-shadow: 0px 1px 3px 1px rgba(0, 0, 0, 0.15);\n",
              "      filter: drop-shadow(0px 1px 2px rgba(0, 0, 0, 0.3));\n",
              "      fill: #FFFFFF;\n",
              "    }\n",
              "  </style>\n",
              "\n",
              "    <script>\n",
              "      const buttonEl =\n",
              "        document.querySelector('#df-a3992c37-9b75-41e6-a13a-9b54e429594e button.colab-df-convert');\n",
              "      buttonEl.style.display =\n",
              "        google.colab.kernel.accessAllowed ? 'block' : 'none';\n",
              "\n",
              "      async function convertToInteractive(key) {\n",
              "        const element = document.querySelector('#df-a3992c37-9b75-41e6-a13a-9b54e429594e');\n",
              "        const dataTable =\n",
              "          await google.colab.kernel.invokeFunction('convertToInteractive',\n",
              "                                                    [key], {});\n",
              "        if (!dataTable) return;\n",
              "\n",
              "        const docLinkHtml = 'Like what you see? Visit the ' +\n",
              "          '<a target=\"_blank\" href=https://colab.research.google.com/notebooks/data_table.ipynb>data table notebook</a>'\n",
              "          + ' to learn more about interactive tables.';\n",
              "        element.innerHTML = '';\n",
              "        dataTable['output_type'] = 'display_data';\n",
              "        await google.colab.output.renderOutput(dataTable, element);\n",
              "        const docLink = document.createElement('div');\n",
              "        docLink.innerHTML = docLinkHtml;\n",
              "        element.appendChild(docLink);\n",
              "      }\n",
              "    </script>\n",
              "  </div>\n",
              "\n",
              "\n",
              "<div id=\"df-d21deb75-fcb4-4ee9-bb37-a30dc769c654\">\n",
              "  <button class=\"colab-df-quickchart\" onclick=\"quickchart('df-d21deb75-fcb4-4ee9-bb37-a30dc769c654')\"\n",
              "            title=\"Suggest charts\"\n",
              "            style=\"display:none;\">\n",
              "\n",
              "<svg xmlns=\"http://www.w3.org/2000/svg\" height=\"24px\"viewBox=\"0 0 24 24\"\n",
              "     width=\"24px\">\n",
              "    <g>\n",
              "        <path d=\"M19 3H5c-1.1 0-2 .9-2 2v14c0 1.1.9 2 2 2h14c1.1 0 2-.9 2-2V5c0-1.1-.9-2-2-2zM9 17H7v-7h2v7zm4 0h-2V7h2v10zm4 0h-2v-4h2v4z\"/>\n",
              "    </g>\n",
              "</svg>\n",
              "  </button>\n",
              "\n",
              "<style>\n",
              "  .colab-df-quickchart {\n",
              "      --bg-color: #E8F0FE;\n",
              "      --fill-color: #1967D2;\n",
              "      --hover-bg-color: #E2EBFA;\n",
              "      --hover-fill-color: #174EA6;\n",
              "      --disabled-fill-color: #AAA;\n",
              "      --disabled-bg-color: #DDD;\n",
              "  }\n",
              "\n",
              "  [theme=dark] .colab-df-quickchart {\n",
              "      --bg-color: #3B4455;\n",
              "      --fill-color: #D2E3FC;\n",
              "      --hover-bg-color: #434B5C;\n",
              "      --hover-fill-color: #FFFFFF;\n",
              "      --disabled-bg-color: #3B4455;\n",
              "      --disabled-fill-color: #666;\n",
              "  }\n",
              "\n",
              "  .colab-df-quickchart {\n",
              "    background-color: var(--bg-color);\n",
              "    border: none;\n",
              "    border-radius: 50%;\n",
              "    cursor: pointer;\n",
              "    display: none;\n",
              "    fill: var(--fill-color);\n",
              "    height: 32px;\n",
              "    padding: 0;\n",
              "    width: 32px;\n",
              "  }\n",
              "\n",
              "  .colab-df-quickchart:hover {\n",
              "    background-color: var(--hover-bg-color);\n",
              "    box-shadow: 0 1px 2px rgba(60, 64, 67, 0.3), 0 1px 3px 1px rgba(60, 64, 67, 0.15);\n",
              "    fill: var(--button-hover-fill-color);\n",
              "  }\n",
              "\n",
              "  .colab-df-quickchart-complete:disabled,\n",
              "  .colab-df-quickchart-complete:disabled:hover {\n",
              "    background-color: var(--disabled-bg-color);\n",
              "    fill: var(--disabled-fill-color);\n",
              "    box-shadow: none;\n",
              "  }\n",
              "\n",
              "  .colab-df-spinner {\n",
              "    border: 2px solid var(--fill-color);\n",
              "    border-color: transparent;\n",
              "    border-bottom-color: var(--fill-color);\n",
              "    animation:\n",
              "      spin 1s steps(1) infinite;\n",
              "  }\n",
              "\n",
              "  @keyframes spin {\n",
              "    0% {\n",
              "      border-color: transparent;\n",
              "      border-bottom-color: var(--fill-color);\n",
              "      border-left-color: var(--fill-color);\n",
              "    }\n",
              "    20% {\n",
              "      border-color: transparent;\n",
              "      border-left-color: var(--fill-color);\n",
              "      border-top-color: var(--fill-color);\n",
              "    }\n",
              "    30% {\n",
              "      border-color: transparent;\n",
              "      border-left-color: var(--fill-color);\n",
              "      border-top-color: var(--fill-color);\n",
              "      border-right-color: var(--fill-color);\n",
              "    }\n",
              "    40% {\n",
              "      border-color: transparent;\n",
              "      border-right-color: var(--fill-color);\n",
              "      border-top-color: var(--fill-color);\n",
              "    }\n",
              "    60% {\n",
              "      border-color: transparent;\n",
              "      border-right-color: var(--fill-color);\n",
              "    }\n",
              "    80% {\n",
              "      border-color: transparent;\n",
              "      border-right-color: var(--fill-color);\n",
              "      border-bottom-color: var(--fill-color);\n",
              "    }\n",
              "    90% {\n",
              "      border-color: transparent;\n",
              "      border-bottom-color: var(--fill-color);\n",
              "    }\n",
              "  }\n",
              "</style>\n",
              "\n",
              "  <script>\n",
              "    async function quickchart(key) {\n",
              "      const quickchartButtonEl =\n",
              "        document.querySelector('#' + key + ' button');\n",
              "      quickchartButtonEl.disabled = true;  // To prevent multiple clicks.\n",
              "      quickchartButtonEl.classList.add('colab-df-spinner');\n",
              "      try {\n",
              "        const charts = await google.colab.kernel.invokeFunction(\n",
              "            'suggestCharts', [key], {});\n",
              "      } catch (error) {\n",
              "        console.error('Error during call to suggestCharts:', error);\n",
              "      }\n",
              "      quickchartButtonEl.classList.remove('colab-df-spinner');\n",
              "      quickchartButtonEl.classList.add('colab-df-quickchart-complete');\n",
              "    }\n",
              "    (() => {\n",
              "      let quickchartButtonEl =\n",
              "        document.querySelector('#df-d21deb75-fcb4-4ee9-bb37-a30dc769c654 button');\n",
              "      quickchartButtonEl.style.display =\n",
              "        google.colab.kernel.accessAllowed ? 'block' : 'none';\n",
              "    })();\n",
              "  </script>\n",
              "</div>\n",
              "\n",
              "    </div>\n",
              "  </div>\n"
            ],
            "application/vnd.google.colaboratory.intrinsic+json": {
              "type": "dataframe",
              "variable_name": "df"
            }
          },
          "metadata": {},
          "execution_count": 2
        }
      ],
      "source": [
        " #/test3_data.csv\n",
        " #df=pd.read_csv(\"/content/drive/MyDrive/Datasets/test3_data.csv\")\n",
        " df=pd.read_csv(\"/test3_data.csv\")\n",
        "\n",
        "\n",
        "\n",
        "# Display the imported data\n",
        "df.head()"
      ]
    },
    {
      "cell_type": "markdown",
      "source": [
        "<p> As we an see, our <b> target</b> feature is going to be <b> Action</b></p>\n",
        "<p> Let's compute the class weight for this dataset.</p>"
      ],
      "metadata": {
        "id": "0xVT5J9RjsAI"
      }
    },
    {
      "cell_type": "code",
      "source": [
        "neg=len(df[df['Action']=='View'])\n",
        "pos=len(df[df['Action']=='Click'])\n",
        "\n",
        "print('Number of negative samples: ', neg)\n",
        "print('Number of postive samples: ' , pos)\n",
        "\n",
        "total=pos+neg\n",
        "print('Total number of samples: ',total)\n",
        "\n",
        "# Scaling by total/2 helps keep the loss to a similar magnitude.\n",
        "# The sum of the weights of all examples stays the same.\n",
        "weight_for_0 = (neg) / (total / 2.0)\n",
        "weight_for_1 = (pos) / (total / 2.0)\n",
        "\n",
        "class_weight = {0: weight_for_0, 1: weight_for_1}\n",
        "\n",
        "print('Weight for class 0: {:.4f}'.format(weight_for_0))\n",
        "print('Weight for class 1: {:.4f}'.format(weight_for_1))\n"
      ],
      "metadata": {
        "colab": {
          "base_uri": "https://localhost:8080/"
        },
        "id": "pwXqR4nvjrSS",
        "outputId": "a72aee8b-4c30-43aa-ecf4-a909f408ad2a"
      },
      "execution_count": null,
      "outputs": [
        {
          "output_type": "stream",
          "name": "stdout",
          "text": [
            "Number of negative samples:  999756\n",
            "Number of postive samples:  244\n",
            "Total number of samples:  1000000\n",
            "Weight for class 0: 1.9995\n",
            "Weight for class 1: 0.0005\n"
          ]
        }
      ]
    },
    {
      "cell_type": "markdown",
      "source": [
        "<p> The class_weight computed above shows that there is a high level of imbalance between our two classes. The is of course will affect the behaviour of the model to be trained by on this imbalanced.</p>\n",
        "<p> In order to ensure that our model is still able to predict <b>positive samples</b> as this is the minority class, we are going to introduce an approach based on three models:\n",
        "<ul><li>the first two models will be trained on each data class samples separately.</li><li> the third model will combine the features extracted by the previous two models to make predictions.</li></ul>\n",
        "</p>"
      ],
      "metadata": {
        "id": "wph0WaIdkvrJ"
      }
    },
    {
      "cell_type": "markdown",
      "source": [
        "<h3> Categorical features</h3>"
      ],
      "metadata": {
        "id": "b9cRsfPtINzH"
      }
    },
    {
      "cell_type": "markdown",
      "source": [
        "<p>  We are going to transform all the <b>categorical</b> features of this datasets into categories codes that will be used to train our model.<p>\n"
      ],
      "metadata": {
        "id": "ziFYK9mCG_x7"
      }
    },
    {
      "cell_type": "markdown",
      "source": [
        "<h4>Action feature</h4>"
      ],
      "metadata": {
        "id": "E4xgDd7wHYsv"
      }
    },
    {
      "cell_type": "code",
      "execution_count": null,
      "metadata": {
        "colab": {
          "base_uri": "https://localhost:8080/",
          "height": 261
        },
        "id": "-mxCltO_I3Ov",
        "outputId": "b864d7c1-5b51-4c63-d729-e1ee2c1f591d"
      },
      "outputs": [
        {
          "output_type": "stream",
          "name": "stdout",
          "text": [
            "['View' 'Click']\n"
          ]
        },
        {
          "output_type": "execute_result",
          "data": {
            "text/plain": [
              "   Unnamed: 0                            ID        ActionTime Action  \\\n",
              "0           1  AMsySZbNg8SBwPtj7IGHnip_8aY0  1508761859495365   View   \n",
              "1           2  AMsySZZcUFNGOJs-lfC9j-ZDlV7Z  1502847469736117   View   \n",
              "2           3  AMsySZYoK8_bD0hGv4zu0iRn1TFo  1514169431528120   View   \n",
              "3           4  AMsySZahxpwLOWnMJj6RGATgwEOc  1515527952591896   View   \n",
              "4           5  AMsySZbqgfMBDtAqZz1jVRaOmX00  1507514809374045   View   \n",
              "\n",
              "         Website BannerSize     Brand  colour  InteractionTime  Action_num  \\\n",
              "0       Facebook    300x600  Carter's    Pink         0.171601           0   \n",
              "1       Facebook    300x250  Burberry     Red         4.303945           0   \n",
              "2       Facebook     728x90    Disney  Yellow         0.868106           0   \n",
              "3       Facebook     320x50  Carter's  Yellow         0.802647           0   \n",
              "4  instagram.com    300x250       Gap    Gold         0.627148           0   \n",
              "\n",
              "   Action_View  Action_Click  \n",
              "0            1             0  \n",
              "1            1             0  \n",
              "2            1             0  \n",
              "3            1             0  \n",
              "4            1             0  "
            ],
            "text/html": [
              "\n",
              "  <div id=\"df-2e4da61d-bc31-4287-8083-ddd3453ab1dc\" class=\"colab-df-container\">\n",
              "    <div>\n",
              "<style scoped>\n",
              "    .dataframe tbody tr th:only-of-type {\n",
              "        vertical-align: middle;\n",
              "    }\n",
              "\n",
              "    .dataframe tbody tr th {\n",
              "        vertical-align: top;\n",
              "    }\n",
              "\n",
              "    .dataframe thead th {\n",
              "        text-align: right;\n",
              "    }\n",
              "</style>\n",
              "<table border=\"1\" class=\"dataframe\">\n",
              "  <thead>\n",
              "    <tr style=\"text-align: right;\">\n",
              "      <th></th>\n",
              "      <th>Unnamed: 0</th>\n",
              "      <th>ID</th>\n",
              "      <th>ActionTime</th>\n",
              "      <th>Action</th>\n",
              "      <th>Website</th>\n",
              "      <th>BannerSize</th>\n",
              "      <th>Brand</th>\n",
              "      <th>colour</th>\n",
              "      <th>InteractionTime</th>\n",
              "      <th>Action_num</th>\n",
              "      <th>Action_View</th>\n",
              "      <th>Action_Click</th>\n",
              "    </tr>\n",
              "  </thead>\n",
              "  <tbody>\n",
              "    <tr>\n",
              "      <th>0</th>\n",
              "      <td>1</td>\n",
              "      <td>AMsySZbNg8SBwPtj7IGHnip_8aY0</td>\n",
              "      <td>1508761859495365</td>\n",
              "      <td>View</td>\n",
              "      <td>Facebook</td>\n",
              "      <td>300x600</td>\n",
              "      <td>Carter's</td>\n",
              "      <td>Pink</td>\n",
              "      <td>0.171601</td>\n",
              "      <td>0</td>\n",
              "      <td>1</td>\n",
              "      <td>0</td>\n",
              "    </tr>\n",
              "    <tr>\n",
              "      <th>1</th>\n",
              "      <td>2</td>\n",
              "      <td>AMsySZZcUFNGOJs-lfC9j-ZDlV7Z</td>\n",
              "      <td>1502847469736117</td>\n",
              "      <td>View</td>\n",
              "      <td>Facebook</td>\n",
              "      <td>300x250</td>\n",
              "      <td>Burberry</td>\n",
              "      <td>Red</td>\n",
              "      <td>4.303945</td>\n",
              "      <td>0</td>\n",
              "      <td>1</td>\n",
              "      <td>0</td>\n",
              "    </tr>\n",
              "    <tr>\n",
              "      <th>2</th>\n",
              "      <td>3</td>\n",
              "      <td>AMsySZYoK8_bD0hGv4zu0iRn1TFo</td>\n",
              "      <td>1514169431528120</td>\n",
              "      <td>View</td>\n",
              "      <td>Facebook</td>\n",
              "      <td>728x90</td>\n",
              "      <td>Disney</td>\n",
              "      <td>Yellow</td>\n",
              "      <td>0.868106</td>\n",
              "      <td>0</td>\n",
              "      <td>1</td>\n",
              "      <td>0</td>\n",
              "    </tr>\n",
              "    <tr>\n",
              "      <th>3</th>\n",
              "      <td>4</td>\n",
              "      <td>AMsySZahxpwLOWnMJj6RGATgwEOc</td>\n",
              "      <td>1515527952591896</td>\n",
              "      <td>View</td>\n",
              "      <td>Facebook</td>\n",
              "      <td>320x50</td>\n",
              "      <td>Carter's</td>\n",
              "      <td>Yellow</td>\n",
              "      <td>0.802647</td>\n",
              "      <td>0</td>\n",
              "      <td>1</td>\n",
              "      <td>0</td>\n",
              "    </tr>\n",
              "    <tr>\n",
              "      <th>4</th>\n",
              "      <td>5</td>\n",
              "      <td>AMsySZbqgfMBDtAqZz1jVRaOmX00</td>\n",
              "      <td>1507514809374045</td>\n",
              "      <td>View</td>\n",
              "      <td>instagram.com</td>\n",
              "      <td>300x250</td>\n",
              "      <td>Gap</td>\n",
              "      <td>Gold</td>\n",
              "      <td>0.627148</td>\n",
              "      <td>0</td>\n",
              "      <td>1</td>\n",
              "      <td>0</td>\n",
              "    </tr>\n",
              "  </tbody>\n",
              "</table>\n",
              "</div>\n",
              "    <div class=\"colab-df-buttons\">\n",
              "\n",
              "  <div class=\"colab-df-container\">\n",
              "    <button class=\"colab-df-convert\" onclick=\"convertToInteractive('df-2e4da61d-bc31-4287-8083-ddd3453ab1dc')\"\n",
              "            title=\"Convert this dataframe to an interactive table.\"\n",
              "            style=\"display:none;\">\n",
              "\n",
              "  <svg xmlns=\"http://www.w3.org/2000/svg\" height=\"24px\" viewBox=\"0 -960 960 960\">\n",
              "    <path d=\"M120-120v-720h720v720H120Zm60-500h600v-160H180v160Zm220 220h160v-160H400v160Zm0 220h160v-160H400v160ZM180-400h160v-160H180v160Zm440 0h160v-160H620v160ZM180-180h160v-160H180v160Zm440 0h160v-160H620v160Z\"/>\n",
              "  </svg>\n",
              "    </button>\n",
              "\n",
              "  <style>\n",
              "    .colab-df-container {\n",
              "      display:flex;\n",
              "      gap: 12px;\n",
              "    }\n",
              "\n",
              "    .colab-df-convert {\n",
              "      background-color: #E8F0FE;\n",
              "      border: none;\n",
              "      border-radius: 50%;\n",
              "      cursor: pointer;\n",
              "      display: none;\n",
              "      fill: #1967D2;\n",
              "      height: 32px;\n",
              "      padding: 0 0 0 0;\n",
              "      width: 32px;\n",
              "    }\n",
              "\n",
              "    .colab-df-convert:hover {\n",
              "      background-color: #E2EBFA;\n",
              "      box-shadow: 0px 1px 2px rgba(60, 64, 67, 0.3), 0px 1px 3px 1px rgba(60, 64, 67, 0.15);\n",
              "      fill: #174EA6;\n",
              "    }\n",
              "\n",
              "    .colab-df-buttons div {\n",
              "      margin-bottom: 4px;\n",
              "    }\n",
              "\n",
              "    [theme=dark] .colab-df-convert {\n",
              "      background-color: #3B4455;\n",
              "      fill: #D2E3FC;\n",
              "    }\n",
              "\n",
              "    [theme=dark] .colab-df-convert:hover {\n",
              "      background-color: #434B5C;\n",
              "      box-shadow: 0px 1px 3px 1px rgba(0, 0, 0, 0.15);\n",
              "      filter: drop-shadow(0px 1px 2px rgba(0, 0, 0, 0.3));\n",
              "      fill: #FFFFFF;\n",
              "    }\n",
              "  </style>\n",
              "\n",
              "    <script>\n",
              "      const buttonEl =\n",
              "        document.querySelector('#df-2e4da61d-bc31-4287-8083-ddd3453ab1dc button.colab-df-convert');\n",
              "      buttonEl.style.display =\n",
              "        google.colab.kernel.accessAllowed ? 'block' : 'none';\n",
              "\n",
              "      async function convertToInteractive(key) {\n",
              "        const element = document.querySelector('#df-2e4da61d-bc31-4287-8083-ddd3453ab1dc');\n",
              "        const dataTable =\n",
              "          await google.colab.kernel.invokeFunction('convertToInteractive',\n",
              "                                                    [key], {});\n",
              "        if (!dataTable) return;\n",
              "\n",
              "        const docLinkHtml = 'Like what you see? Visit the ' +\n",
              "          '<a target=\"_blank\" href=https://colab.research.google.com/notebooks/data_table.ipynb>data table notebook</a>'\n",
              "          + ' to learn more about interactive tables.';\n",
              "        element.innerHTML = '';\n",
              "        dataTable['output_type'] = 'display_data';\n",
              "        await google.colab.output.renderOutput(dataTable, element);\n",
              "        const docLink = document.createElement('div');\n",
              "        docLink.innerHTML = docLinkHtml;\n",
              "        element.appendChild(docLink);\n",
              "      }\n",
              "    </script>\n",
              "  </div>\n",
              "\n",
              "\n",
              "<div id=\"df-08b1eee2-3777-422a-8afa-ec8884847f0b\">\n",
              "  <button class=\"colab-df-quickchart\" onclick=\"quickchart('df-08b1eee2-3777-422a-8afa-ec8884847f0b')\"\n",
              "            title=\"Suggest charts\"\n",
              "            style=\"display:none;\">\n",
              "\n",
              "<svg xmlns=\"http://www.w3.org/2000/svg\" height=\"24px\"viewBox=\"0 0 24 24\"\n",
              "     width=\"24px\">\n",
              "    <g>\n",
              "        <path d=\"M19 3H5c-1.1 0-2 .9-2 2v14c0 1.1.9 2 2 2h14c1.1 0 2-.9 2-2V5c0-1.1-.9-2-2-2zM9 17H7v-7h2v7zm4 0h-2V7h2v10zm4 0h-2v-4h2v4z\"/>\n",
              "    </g>\n",
              "</svg>\n",
              "  </button>\n",
              "\n",
              "<style>\n",
              "  .colab-df-quickchart {\n",
              "      --bg-color: #E8F0FE;\n",
              "      --fill-color: #1967D2;\n",
              "      --hover-bg-color: #E2EBFA;\n",
              "      --hover-fill-color: #174EA6;\n",
              "      --disabled-fill-color: #AAA;\n",
              "      --disabled-bg-color: #DDD;\n",
              "  }\n",
              "\n",
              "  [theme=dark] .colab-df-quickchart {\n",
              "      --bg-color: #3B4455;\n",
              "      --fill-color: #D2E3FC;\n",
              "      --hover-bg-color: #434B5C;\n",
              "      --hover-fill-color: #FFFFFF;\n",
              "      --disabled-bg-color: #3B4455;\n",
              "      --disabled-fill-color: #666;\n",
              "  }\n",
              "\n",
              "  .colab-df-quickchart {\n",
              "    background-color: var(--bg-color);\n",
              "    border: none;\n",
              "    border-radius: 50%;\n",
              "    cursor: pointer;\n",
              "    display: none;\n",
              "    fill: var(--fill-color);\n",
              "    height: 32px;\n",
              "    padding: 0;\n",
              "    width: 32px;\n",
              "  }\n",
              "\n",
              "  .colab-df-quickchart:hover {\n",
              "    background-color: var(--hover-bg-color);\n",
              "    box-shadow: 0 1px 2px rgba(60, 64, 67, 0.3), 0 1px 3px 1px rgba(60, 64, 67, 0.15);\n",
              "    fill: var(--button-hover-fill-color);\n",
              "  }\n",
              "\n",
              "  .colab-df-quickchart-complete:disabled,\n",
              "  .colab-df-quickchart-complete:disabled:hover {\n",
              "    background-color: var(--disabled-bg-color);\n",
              "    fill: var(--disabled-fill-color);\n",
              "    box-shadow: none;\n",
              "  }\n",
              "\n",
              "  .colab-df-spinner {\n",
              "    border: 2px solid var(--fill-color);\n",
              "    border-color: transparent;\n",
              "    border-bottom-color: var(--fill-color);\n",
              "    animation:\n",
              "      spin 1s steps(1) infinite;\n",
              "  }\n",
              "\n",
              "  @keyframes spin {\n",
              "    0% {\n",
              "      border-color: transparent;\n",
              "      border-bottom-color: var(--fill-color);\n",
              "      border-left-color: var(--fill-color);\n",
              "    }\n",
              "    20% {\n",
              "      border-color: transparent;\n",
              "      border-left-color: var(--fill-color);\n",
              "      border-top-color: var(--fill-color);\n",
              "    }\n",
              "    30% {\n",
              "      border-color: transparent;\n",
              "      border-left-color: var(--fill-color);\n",
              "      border-top-color: var(--fill-color);\n",
              "      border-right-color: var(--fill-color);\n",
              "    }\n",
              "    40% {\n",
              "      border-color: transparent;\n",
              "      border-right-color: var(--fill-color);\n",
              "      border-top-color: var(--fill-color);\n",
              "    }\n",
              "    60% {\n",
              "      border-color: transparent;\n",
              "      border-right-color: var(--fill-color);\n",
              "    }\n",
              "    80% {\n",
              "      border-color: transparent;\n",
              "      border-right-color: var(--fill-color);\n",
              "      border-bottom-color: var(--fill-color);\n",
              "    }\n",
              "    90% {\n",
              "      border-color: transparent;\n",
              "      border-bottom-color: var(--fill-color);\n",
              "    }\n",
              "  }\n",
              "</style>\n",
              "\n",
              "  <script>\n",
              "    async function quickchart(key) {\n",
              "      const quickchartButtonEl =\n",
              "        document.querySelector('#' + key + ' button');\n",
              "      quickchartButtonEl.disabled = true;  // To prevent multiple clicks.\n",
              "      quickchartButtonEl.classList.add('colab-df-spinner');\n",
              "      try {\n",
              "        const charts = await google.colab.kernel.invokeFunction(\n",
              "            'suggestCharts', [key], {});\n",
              "      } catch (error) {\n",
              "        console.error('Error during call to suggestCharts:', error);\n",
              "      }\n",
              "      quickchartButtonEl.classList.remove('colab-df-spinner');\n",
              "      quickchartButtonEl.classList.add('colab-df-quickchart-complete');\n",
              "    }\n",
              "    (() => {\n",
              "      let quickchartButtonEl =\n",
              "        document.querySelector('#df-08b1eee2-3777-422a-8afa-ec8884847f0b button');\n",
              "      quickchartButtonEl.style.display =\n",
              "        google.colab.kernel.accessAllowed ? 'block' : 'none';\n",
              "    })();\n",
              "  </script>\n",
              "</div>\n",
              "\n",
              "    </div>\n",
              "  </div>\n"
            ],
            "application/vnd.google.colaboratory.intrinsic+json": {
              "type": "dataframe",
              "variable_name": "df"
            }
          },
          "metadata": {},
          "execution_count": 4
        }
      ],
      "source": [
        "#let's transform the Action column to be a\n",
        "# categorical data as this is our target column\n",
        "\n",
        "#turn the action column into categorical data\n",
        "#get list of values from the ation column\n",
        "\n",
        "actions=df['Action'].unique()\n",
        "\n",
        "print(actions)\n",
        "\n",
        "# Apply the categorical value\n",
        "df['Action'] = pd.Categorical(df['Action'], categories=actions)\n",
        "df_2=df.copy()\n",
        "\n",
        "#add the numerical data as a new column which will be removed\n",
        "# later\n",
        "df['Action_num']=df['Action'].astype('category').cat.codes\n",
        "df['Action_View']=df['Action'].apply(lambda x: 1 if x=='View' else 0)\n",
        "df['Action_Click']=df['Action'].apply(lambda x: 1 if x=='Click' else 0)\n",
        "#df.drop('Action',axis=1,inplace=True\n",
        "df['Action_View']=df['Action_View'].astype('int32')\n",
        "df['Action_Click']=df['Action_Click'].astype('int32')\n",
        "df.head()"
      ]
    },
    {
      "cell_type": "markdown",
      "source": [
        "<h4>Websites feature</h4>"
      ],
      "metadata": {
        "id": "tswnzrNsHmUf"
      }
    },
    {
      "cell_type": "code",
      "execution_count": null,
      "metadata": {
        "colab": {
          "base_uri": "https://localhost:8080/"
        },
        "id": "V5DqUK0pJDr6",
        "outputId": "5d68adb4-67e1-4508-aab1-f3404c846b5d"
      },
      "outputs": [
        {
          "output_type": "stream",
          "name": "stdout",
          "text": [
            "['Facebook' 'instagram.com' 'Kijiji' 'Sympatico' 'Atedra' 'Amazon' 'Other'\n",
            " 'Twitter' 'Yahoo' 'TubeMogul' 'Craigslist.ca' 'Expedia' 'AOL' 'Youtube'\n",
            " 'Weather' 'Wayfair']\n"
          ]
        }
      ],
      "source": [
        "websites=df['Website'].unique()\n",
        "\n",
        "print(websites)\n",
        "\n",
        "# Apply the categorical value\n",
        "df['Website'] = pd.Categorical(df['Website'], categories=websites)\n",
        "\n",
        "\n",
        "#add the numerical data as a new column which will be removed\n",
        "# later\n",
        "df['Website_num']=df['Website'].astype('category').cat.codes"
      ]
    },
    {
      "cell_type": "markdown",
      "source": [
        "<h4> Banner feature.</h4>"
      ],
      "metadata": {
        "id": "C5Ut2hkkHxPL"
      }
    },
    {
      "cell_type": "code",
      "execution_count": null,
      "metadata": {
        "colab": {
          "base_uri": "https://localhost:8080/"
        },
        "id": "0p3THK2uJKf4",
        "outputId": "8e88d8bc-7f2d-4920-c875-eac32310eebc"
      },
      "outputs": [
        {
          "output_type": "stream",
          "name": "stdout",
          "text": [
            "['300x600' '300x250' '728x90' '320x50' '160x600' '1x1' 'other' '1200x627'\n",
            " '320x480' '300x50' '320x100' '768x1024' '1536x2048' '750x125']\n"
          ]
        }
      ],
      "source": [
        "#let's correct the 'Other' value of the 'BannerSize' column\n",
        "#to 'other' only value.\n",
        "\n",
        "df['BannerSize'].replace('Other', 'other', inplace=True)\n",
        "\n",
        "#let's turn the values into numerical data\n",
        "bannerSize=df['BannerSize'].unique()\n",
        "\n",
        "print(bannerSize)\n",
        "\n",
        "# Apply the categorical value\n",
        "df['BannerSize'] = pd.Categorical(df['BannerSize'], categories=bannerSize)\n",
        "df_2=df.copy()\n",
        "\n",
        "#add the numerical data as a new column which will be removed\n",
        "# later\n",
        "df['BannerSize_num']=df['BannerSize'].astype('category').cat.codes\n"
      ]
    },
    {
      "cell_type": "markdown",
      "source": [
        "<h4>Brand feature</h4>"
      ],
      "metadata": {
        "id": "t_6JBEXYH430"
      }
    },
    {
      "cell_type": "code",
      "execution_count": null,
      "metadata": {
        "colab": {
          "base_uri": "https://localhost:8080/"
        },
        "id": "t8oyabKLJSbs",
        "outputId": "12e9bb42-a463-41c8-f2fc-4417478f20c7"
      },
      "outputs": [
        {
          "output_type": "stream",
          "name": "stdout",
          "text": [
            "[\"Carter's\", 'Burberry', 'Disney', 'Gap', 'gymboree', 'Old Navy', 'JoeFresh', 'Banana Republic', \"The Children's Place\", 'Zara']\n"
          ]
        }
      ],
      "source": [
        "#let's turn the values into numerical data\n",
        "brand=df['Brand'].unique().tolist()\n",
        "\n",
        "#brand=[\"Carter's\" 'Burberry' 'Disney' 'Gap' 'gymboree' 'Old Navy' 'JoeFresh'\n",
        "# 'Banana Republic' \"The Children's Place\" 'Zara']\n",
        "\n",
        "\n",
        "print(brand)\n",
        "\n",
        "# Apply the categorical value\n",
        "df['Brand'] = pd.Categorical(df['Brand'], categories=brand)\n",
        "df_2=df.copy()\n",
        "\n",
        "#add the numerical data as a new column which will be removed\n",
        "# later\n",
        "df['Brand_num']=df['Brand'].astype('category').cat.codes\n"
      ]
    },
    {
      "cell_type": "markdown",
      "source": [
        "<h4>Colour feature.</h4>"
      ],
      "metadata": {
        "id": "fpNvlZ_4H-XB"
      }
    },
    {
      "cell_type": "code",
      "execution_count": null,
      "metadata": {
        "colab": {
          "base_uri": "https://localhost:8080/"
        },
        "id": "N-ZuzrwAJbec",
        "outputId": "c01bbb28-e8da-432d-8034-4a0e7821ef44"
      },
      "outputs": [
        {
          "output_type": "stream",
          "name": "stdout",
          "text": [
            "['Pink', 'Red', 'Yellow', 'Gold', 'Blue', 'White', 'other']\n"
          ]
        }
      ],
      "source": [
        "#let's turn the values into numerical data\n",
        "colour=df['colour'].unique().tolist()\n",
        "\n",
        "colour=['Pink', 'Red', 'Yellow', 'Gold', 'Blue', 'White', 'other']\n",
        "\n",
        "print(colour)\n",
        "\n",
        "# Apply the categorical value\n",
        "df['colour'] = pd.Categorical(df['colour'], categories=colour)\n",
        "df_2=df.copy()\n",
        "\n",
        "#add the numerical data as a new column which will be removed\n",
        "# later\n",
        "df['colour_num']=df['colour'].astype('category').cat.codes"
      ]
    },
    {
      "cell_type": "markdown",
      "source": [
        "<h3> Numerical feature</h3>\n",
        "<p> Let's break our <b>ActionTime</b> feature into its various components.</p>"
      ],
      "metadata": {
        "id": "Rb6UPmEuIbw9"
      }
    },
    {
      "cell_type": "code",
      "execution_count": null,
      "metadata": {
        "id": "FC6E57398PlY"
      },
      "outputs": [],
      "source": [
        "#let's break the actionTime columns\n",
        "#data Cleaning\n",
        "#first, let's convert the columns data type into timestamp dtype\n",
        "df['ActionTime']=df['ActionTime'].apply(pd.Timestamp,unit='us')\n",
        "\n",
        "df['Year'] = df['ActionTime'].dt.year\n",
        "df['Month'] = df['ActionTime'].dt.month\n",
        "df['Day'] = df['ActionTime'].dt.day\n",
        "df['Hour'] = df['ActionTime'].dt.hour\n",
        "df['Min'] = df['ActionTime'].dt.minute\n",
        "df['Sec'] = df['ActionTime'].dt.second\n"
      ]
    },
    {
      "cell_type": "markdown",
      "source": [
        "<h4>Checking for missing values.</h4>"
      ],
      "metadata": {
        "id": "B6O_RzBEJO-d"
      }
    },
    {
      "cell_type": "code",
      "source": [
        "df.isnull().sum()"
      ],
      "metadata": {
        "colab": {
          "base_uri": "https://localhost:8080/"
        },
        "id": "CAYTXQHSJZiy",
        "outputId": "528b6e00-6c0b-4f72-81cc-431c9806b47e"
      },
      "execution_count": null,
      "outputs": [
        {
          "output_type": "execute_result",
          "data": {
            "text/plain": [
              "Unnamed: 0         0\n",
              "ID                 0\n",
              "ActionTime         0\n",
              "Action             0\n",
              "Website            0\n",
              "BannerSize         0\n",
              "Brand              0\n",
              "colour             0\n",
              "InteractionTime    8\n",
              "Action_num         0\n",
              "Action_View        0\n",
              "Action_Click       0\n",
              "Website_num        0\n",
              "BannerSize_num     0\n",
              "Brand_num          0\n",
              "colour_num         0\n",
              "Year               0\n",
              "Month              0\n",
              "Day                0\n",
              "Hour               0\n",
              "Min                0\n",
              "Sec                0\n",
              "dtype: int64"
            ]
          },
          "metadata": {},
          "execution_count": 10
        }
      ]
    },
    {
      "cell_type": "markdown",
      "source": [
        "<p>From the above only the <b> InteractionTime feature</b> has missing values. Lets replace the missing values with zeros.</p>"
      ],
      "metadata": {
        "id": "EsY2Qxq6u60R"
      }
    },
    {
      "cell_type": "code",
      "execution_count": null,
      "metadata": {
        "id": "tKaR9XRPJifc"
      },
      "outputs": [],
      "source": [
        "#filling the missing value with zero\n",
        "df['InteractionTime'].fillna(0, inplace=True)"
      ]
    },
    {
      "cell_type": "markdown",
      "source": [
        "<p> After this, we are now ready to prepare our dataset for training. We will use a selected number of 11 features to train our model.<p>\n",
        "<p> These features include: <ol><li>Year</li> <li>Month</li> <li>Day</li> <li>Hour</li><li>Min</li> <li>Sec</li><li>InteractionTime</li> <li>BannerSize_num</li><li>Brand_num</li> <li>colour_num</li> <li>Website_num</li></ol></p>\n",
        "\n",
        "<p> Our target feature will be : Action_num</p>"
      ],
      "metadata": {
        "id": "1cQ5lYygJph7"
      }
    },
    {
      "cell_type": "code",
      "execution_count": null,
      "metadata": {
        "colab": {
          "base_uri": "https://localhost:8080/"
        },
        "id": "zPSUS_qmJzbd",
        "outputId": "8ccdcc33-4f2b-43da-d8ee-5c7532dbd21a"
      },
      "outputs": [
        {
          "output_type": "stream",
          "name": "stdout",
          "text": [
            "(1000000, 11) (1000000,)\n",
            "(562500, 11) (562500,) <class 'pandas.core.frame.DataFrame'>\n",
            "(187500, 11) (187500,)\n",
            "(250000, 11) (250000,)\n",
            "Action_num\n",
            "0    562373\n",
            "1       127\n",
            "Name: count, dtype: int64\n",
            "Action_num\n",
            "0    249937\n",
            "1        63\n",
            "Name: count, dtype: int64\n"
          ]
        }
      ],
      "source": [
        "from sklearn.model_selection import train_test_split\n",
        "import numpy as np\n",
        "\n",
        "features_to_use = ['Year', 'Month','Day','Hour','Min','Sec', 'InteractionTime', 'BannerSize_num',\n",
        "                  'Brand_num', 'colour_num', 'Website_num','Action_num']\n",
        "\n",
        "\n",
        "df_numeric = df[features_to_use ]\n",
        "\n",
        "train_features = ['Year', 'Month','Day','Hour','Min','Sec', 'InteractionTime', 'BannerSize_num',\n",
        "                  'Brand_num', 'colour_num', 'Website_num']\n",
        "\n",
        "X = df_numeric[train_features]\n",
        "y=df_numeric['Action_num']\n",
        "\n",
        "print(X.shape,y.shape)\n",
        "x_train, x_test, y_train, y_test = train_test_split(X, y,\n",
        "                                                    test_size=0.25,\n",
        "                                                    random_state=101)\n",
        "\n",
        "x_train, x_val, y_train, y_val = train_test_split(x_train, y_train,\n",
        "                                                  test_size=0.25,\n",
        "                                                  random_state=101)\n",
        "\n",
        "print(x_train.shape, y_train.shape,type(x_train))\n",
        "print(x_val.shape, y_val.shape)\n",
        "print(x_test.shape, y_test.shape)\n",
        "\n",
        "#let's check the number of class samples per set\n",
        "print(y_train.value_counts())\n",
        "print(y_test.value_counts())\n"
      ]
    },
    {
      "cell_type": "markdown",
      "source": [
        "<p> The first splitting of the data above will be use to train our specialized models (Positive and Negative Models) for each class.</p>\n",
        "<p> The second splitting below will be used to train and evaluate  our Combiner Model.</p>"
      ],
      "metadata": {
        "id": "OWUsq3YWf37D"
      }
    },
    {
      "cell_type": "code",
      "source": [
        "features_to_use = ['Year', 'Month','Day','Hour','Min','Sec', 'InteractionTime', 'BannerSize_num',\n",
        "                   'Brand_num', 'colour_num', 'Website_num','Action_View','Action_Click']\n",
        "\n",
        "df_numeric_2 = df[features_to_use ]\n",
        "\n",
        "train_features = ['Year', 'Month','Day','Hour','Min','Sec', 'InteractionTime', 'BannerSize_num',\n",
        "                  'Brand_num', 'colour_num', 'Website_num']\n",
        "\n",
        "X_2 = df_numeric_2[train_features]\n",
        "y_2 = df_numeric_2[['Action_View','Action_Click']]\n",
        "\n",
        "print(X_2.shape,y_2.shape)\n",
        "x_train_2, x_test_2, y_train_2, y_test_2 = train_test_split(X_2, y_2,\n",
        "                                                    test_size=0.25,\n",
        "                                                    random_state=101)\n",
        "\n",
        "x_train_2, x_val_2, y_train_2, y_val_2 = train_test_split(x_train_2, y_train_2,\n",
        "                                                  test_size=0.25,\n",
        "                                                  random_state=101)\n",
        "\n",
        "print(x_train_2.shape, y_train_2.shape,type(x_train_2))\n",
        "print(x_val_2.shape, y_val_2.shape)\n",
        "print(x_test_2.shape, y_test_2.shape)\n",
        "\n",
        "#let's check the number of class samples per set\n",
        "print(y_train_2.value_counts())\n",
        "print(y_test_2.value_counts())\n"
      ],
      "metadata": {
        "colab": {
          "base_uri": "https://localhost:8080/"
        },
        "id": "MqNbTSSJUpq6",
        "outputId": "05a7725f-b016-47bb-f7d0-373177405077"
      },
      "execution_count": null,
      "outputs": [
        {
          "output_type": "stream",
          "name": "stdout",
          "text": [
            "(1000000, 11) (1000000, 2)\n",
            "(562500, 11) (562500, 2) <class 'pandas.core.frame.DataFrame'>\n",
            "(187500, 11) (187500, 2)\n",
            "(250000, 11) (250000, 2)\n",
            "Action_View  Action_Click\n",
            "1            0               562373\n",
            "0            1                  127\n",
            "Name: count, dtype: int64\n",
            "Action_View  Action_Click\n",
            "1            0               249937\n",
            "0            1                   63\n",
            "Name: count, dtype: int64\n"
          ]
        }
      ]
    },
    {
      "cell_type": "code",
      "execution_count": null,
      "metadata": {
        "id": "veOzNOqeMvpN",
        "colab": {
          "base_uri": "https://localhost:8080/"
        },
        "outputId": "08788b48-97dd-4b3b-de1a-7cbfa92804c9"
      },
      "outputs": [
        {
          "output_type": "stream",
          "name": "stdout",
          "text": [
            "Average class probability in training set:   0.0002\n",
            "Average class probability in validation set: 0.0003\n",
            "Average class probability in test set:       0.0003\n"
          ]
        }
      ],
      "source": [
        "print(f'Average class probability in training set:   {y_train.mean():.4f}')\n",
        "print(f'Average class probability in validation set: {y_val.mean():.4f}')\n",
        "print(f'Average class probability in test set:       {y_test.mean():.4f}')"
      ]
    },
    {
      "cell_type": "code",
      "execution_count": null,
      "metadata": {
        "colab": {
          "base_uri": "https://localhost:8080/"
        },
        "id": "46-QyN-gVxwP",
        "outputId": "669f0129-2f42-493b-a7bf-2b625943ceb8"
      },
      "outputs": [
        {
          "output_type": "execute_result",
          "data": {
            "text/plain": [
              "<_BatchDataset element_spec=(TensorSpec(shape=(None, 11), dtype=tf.float64, name=None), TensorSpec(shape=(None,), dtype=tf.int8, name=None))>"
            ]
          },
          "metadata": {},
          "execution_count": 15
        }
      ],
      "source": [
        "#creating the datasets\n",
        "dataset_train= tf.data.Dataset.from_tensor_slices((x_train,y_train))\n",
        "dataset_val= tf.data.Dataset.from_tensor_slices((x_val,y_val))\n",
        "dataset_test= tf.data.Dataset.from_tensor_slices((x_test,y_test))\n",
        "\n",
        "#forming batches\n",
        "batched_dataset_train = dataset_train.batch(2000)\n",
        "batched_dataset_val = dataset_val.batch(2000)\n",
        "batched_dataset_test = dataset_test.batch(2000)\n",
        "\n",
        "\n",
        "batched_dataset_train\n"
      ]
    },
    {
      "cell_type": "markdown",
      "source": [
        "<p> Let's define  ColumnEmbedding Class that will generate an embedding for each features we will use.</p>"
      ],
      "metadata": {
        "id": "8rZzd-rGqvq7"
      }
    },
    {
      "cell_type": "code",
      "execution_count": null,
      "metadata": {
        "id": "TEuNB6N3b_Ao"
      },
      "outputs": [],
      "source": [
        "class ColumnEmbedding(tf.keras.layers.Layer):\n",
        "  def __init__(self, vocab_size, d_model):\n",
        "    super().__init__()\n",
        "    self.d_model = d_model\n",
        "    self.embedding = tf.keras.layers.Embedding(vocab_size, d_model, mask_zero=True)\n",
        "\n",
        "  def compute_mask(self, *args, **kwargs):\n",
        "    return self.embedding.compute_mask(*args, **kwargs)\n",
        "\n",
        "\n",
        "  def call(self, x):\n",
        "    x = self.embedding(x)\n",
        "\n",
        "    # This factor sets the relative scale of the embedding.\n",
        "    x *= tf.math.sqrt(tf.cast(self.d_model, tf.float32))\n",
        "    return x\n"
      ]
    },
    {
      "cell_type": "markdown",
      "source": [
        "<p> As well , let's define BatchEmbedding will will form the total embedding for each sample of data.</p>"
      ],
      "metadata": {
        "id": "c51CWD2hrhFi"
      }
    },
    {
      "cell_type": "code",
      "execution_count": null,
      "metadata": {
        "id": "y8G17vbLBHNa"
      },
      "outputs": [],
      "source": [
        "class BatchEmbedding(tf.keras.layers.Layer):\n",
        "  def __init__(self,d_model,vocabs, list_features):\n",
        "    super().__init__()\n",
        "    #d_model is the embedding depth\n",
        "    self.d_model=d_model\n",
        "    #As each feature is different, we will have a different\n",
        "    #vocab size\n",
        "    self.X = vocabs\n",
        "    self.list_features = list_features\n",
        "\n",
        "    #initialize an embedding for each feature\n",
        "    self.embed_features=self.initializeEmbedding()\n",
        "\n",
        "  def getBatch(self,batch):\n",
        "    batch=batch.map(self.makeBatchEmbedding)\n",
        "    return batch\n",
        "\n",
        "  def makeBatchEmbedding(self,x):\n",
        "\n",
        "    batch_x_transp=tf.transpose(x)\n",
        "    x_embed=[]\n",
        "    j=0\n",
        "    for el in self.list_features:\n",
        "\n",
        "      #reshape feature tensor to create the feature embedding\n",
        "      feature_values=tf.reshape(batch_x_transp[j],(-1,1))\n",
        "\n",
        "      #create feature embedding\n",
        "      feature_embed=self.embed_features[j](feature_values)\n",
        "      j+=1\n",
        "\n",
        "      #collect the features for future concatenation\n",
        "      x_embed.append(feature_embed)\n",
        "\n",
        "    #concatenate features\n",
        "    x_embed=tf.concat(x_embed,axis=1)\n",
        "    return x_embed\n",
        "\n",
        "  #initialize the embedding for each column (feature)\n",
        "  def initializeEmbedding(self):\n",
        "    columns_embed=[]\n",
        "\n",
        "    for el in self.list_features:\n",
        "\n",
        "      feature_vocab=self.X[el].round().astype('int32').unique()\n",
        "\n",
        "      vocab_size=np.max(feature_vocab)+1\n",
        "      embed_feature = ColumnEmbedding(vocab_size, self.d_model)\n",
        "      columns_embed.append(embed_feature)\n",
        "\n",
        "    return columns_embed\n",
        "\n",
        "  def call(self, x ):  #batched_dataset\n",
        "\n",
        "    x_embed = self.makeBatchEmbedding(x)\n",
        "\n",
        "    return x_embed\n"
      ]
    },
    {
      "cell_type": "markdown",
      "source": [
        "<p> Let's test it.</p>"
      ],
      "metadata": {
        "id": "WtSv-7AtuJO1"
      }
    },
    {
      "cell_type": "code",
      "execution_count": null,
      "metadata": {
        "colab": {
          "base_uri": "https://localhost:8080/"
        },
        "id": "kaTqhLbYFROv",
        "outputId": "8a9eebad-6ce2-4d09-aeaa-017376a4ce85"
      },
      "outputs": [
        {
          "output_type": "stream",
          "name": "stdout",
          "text": [
            "x.shape: (2000, 11)\n",
            "x_embed.shape: (2000, 11, 200)\n"
          ]
        }
      ],
      "source": [
        "#defining our features list\n",
        "train_features = ['Year', 'Month','Day','Hour','Min','Sec', 'InteractionTime', 'BannerSize_num',\n",
        "                  'Brand_num', 'colour_num', 'Website_num']\n",
        "\n",
        "#instanciating a BatchEmbedding object assumming a d_model=200\n",
        "# X as our vocabulary for each feature and\n",
        "#train_features as a list of features\n",
        "batched_dataset_embed=BatchEmbedding(200,X,train_features)\n",
        "\n",
        "#test dataset\n",
        "sample_dataset=batched_dataset_train.take(1)\n",
        "\n",
        "#extracting feature and class\n",
        "x,y=sample_dataset.as_numpy_iterator().next()\n",
        "print(\"x.shape:\",x.shape);\n",
        "\n",
        "#creating the embedding\n",
        "x_embed=batched_dataset_embed(x)\n",
        "print(\"x_embed.shape:\",x_embed.shape)\n",
        "\n"
      ]
    },
    {
      "cell_type": "markdown",
      "source": [
        "<h2> The Transformer model</h2>"
      ],
      "metadata": {
        "id": "5zIB1wMfAU_n"
      }
    },
    {
      "cell_type": "markdown",
      "source": [
        "<p> We are going to implement a variant of the transfmormer model which has only the dcoder layer.</p>\n",
        "<p>Let's declare some variables to be used by our transformer.</p>"
      ],
      "metadata": {
        "id": "7-ftp7nYq_BW"
      }
    },
    {
      "cell_type": "code",
      "execution_count": null,
      "metadata": {
        "id": "RuIyP4tncKdN"
      },
      "outputs": [],
      "source": [
        "d_model=100  #embedding depth\n",
        "dff=100\n",
        "dropout_rate=0.1\n"
      ]
    },
    {
      "cell_type": "markdown",
      "source": [
        "<p> Let's build the different layers that will be used buy our transformer.</p>"
      ],
      "metadata": {
        "id": "hR6ZjSVJAb2R"
      }
    },
    {
      "cell_type": "code",
      "execution_count": null,
      "metadata": {
        "id": "mXisqKzePzgP"
      },
      "outputs": [],
      "source": [
        "#BaseAttention Layer\n",
        "class BaseAttention(tf.keras.layers.Layer):\n",
        "  def __init__(self, **kwargs):\n",
        "    super().__init__()\n",
        "    self.mha = tf.keras.layers.MultiHeadAttention(**kwargs)\n",
        "    self.layernorm = tf.keras.layers.LayerNormalization()\n",
        "    self.add = tf.keras.layers.Add()"
      ]
    },
    {
      "cell_type": "code",
      "execution_count": null,
      "metadata": {
        "id": "5y7NUy0IQMKY"
      },
      "outputs": [],
      "source": [
        "#Self Attention Layer\n",
        "class GlobalSelfAttention(BaseAttention):\n",
        "  def call(self, x):\n",
        "    attn_output = self.mha(\n",
        "        query=x,\n",
        "        value=x,\n",
        "        key=x)\n",
        "    x = self.add([x, attn_output])\n",
        "    x = self.layernorm(x)\n",
        "    return x"
      ]
    },
    {
      "cell_type": "markdown",
      "source": [
        "<p> Let's test it.</p>"
      ],
      "metadata": {
        "id": "ODLPnTzuNwvx"
      }
    },
    {
      "cell_type": "code",
      "execution_count": null,
      "metadata": {
        "id": "3ijz3B3rQj_5",
        "colab": {
          "base_uri": "https://localhost:8080/"
        },
        "outputId": "9f489d99-0efd-4d09-f99b-29314d208485"
      },
      "outputs": [
        {
          "output_type": "stream",
          "name": "stdout",
          "text": [
            "x.shape: (2000, 11)\n",
            "x_gsa.shape: (2000, 11, 200)\n"
          ]
        }
      ],
      "source": [
        "sample_gsa = GlobalSelfAttention(num_heads=4, key_dim=200)\n",
        "\n",
        "x=batched_dataset_train.take(1).as_numpy_iterator().next()[0]\n",
        "print(\"x.shape:\", x.shape)\n",
        "\n",
        "#creating the embedding\n",
        "x_embed=batched_dataset_embed(x)\n",
        "\n",
        "#apply attention layer\n",
        "x_gsa=sample_gsa(x_embed)\n",
        "print(\"x_gsa.shape:\",x_gsa.shape)\n"
      ]
    },
    {
      "cell_type": "code",
      "execution_count": null,
      "metadata": {
        "id": "py_MFmUNRZuc"
      },
      "outputs": [],
      "source": [
        "#CausalSelfAttention Layer\n",
        "class CausalSelfAttention(BaseAttention):\n",
        "  def call(self, x):\n",
        "    attn_output = self.mha(\n",
        "        query=x,\n",
        "        value=x,\n",
        "        key=x,\n",
        "        #use_causal_mask = True\n",
        "        )\n",
        "    x = self.add([x, attn_output])\n",
        "    x = self.layernorm(x)\n",
        "    return x"
      ]
    },
    {
      "cell_type": "markdown",
      "source": [
        "<p> Let's test it.</p>"
      ],
      "metadata": {
        "id": "wLbc8AXgN2li"
      }
    },
    {
      "cell_type": "code",
      "execution_count": null,
      "metadata": {
        "id": "uzMPpseoRrRf",
        "colab": {
          "base_uri": "https://localhost:8080/"
        },
        "outputId": "65926c26-4c8e-447e-c547-029876c2cc9e"
      },
      "outputs": [
        {
          "output_type": "stream",
          "name": "stdout",
          "text": [
            "x.shape: (2000, 11)\n",
            "x_csa.shape: (2000, 11, 200)\n"
          ]
        }
      ],
      "source": [
        "sample_csa = CausalSelfAttention(num_heads=4, key_dim=512)\n",
        "\n",
        "x=batched_dataset_train.take(1).as_numpy_iterator().next()[0]\n",
        "print(\"x.shape:\", x.shape)\n",
        "\n",
        "#creating the embedding\n",
        "x_embed=batched_dataset_embed(x)\n",
        "\n",
        "#apply attention layer\n",
        "x_csa=sample_csa(x_embed)\n",
        "print(\"x_csa.shape:\",x_csa.shape)\n",
        "\n"
      ]
    },
    {
      "cell_type": "code",
      "execution_count": null,
      "metadata": {
        "id": "z0j25PhXSu7s"
      },
      "outputs": [],
      "source": [
        "#FeedForward Layer\n",
        "class FeedForward(tf.keras.layers.Layer):\n",
        "  def __init__(self, d_model, dff, dropout_rate=0.1):\n",
        "    super().__init__()\n",
        "    self.seq = tf.keras.Sequential([\n",
        "      tf.keras.layers.Dense(dff, activation='relu'),\n",
        "      tf.keras.layers.Dense(d_model),\n",
        "      tf.keras.layers.Dropout(dropout_rate)\n",
        "    ])\n",
        "    self.add = tf.keras.layers.Add()\n",
        "    self.layer_norm = tf.keras.layers.LayerNormalization()\n",
        "\n",
        "  def call(self, x):\n",
        "    x = self.add([x, self.seq(x)])\n",
        "    x = self.layer_norm(x)\n",
        "    return x"
      ]
    },
    {
      "cell_type": "markdown",
      "source": [
        "<p> Let's test it.</p>"
      ],
      "metadata": {
        "id": "xuwbOc2ON6kD"
      }
    },
    {
      "cell_type": "code",
      "execution_count": null,
      "metadata": {
        "id": "Q_QWm7h6Sz9l",
        "colab": {
          "base_uri": "https://localhost:8080/"
        },
        "outputId": "b65cd395-4759-4b38-dd99-001e09245762"
      },
      "outputs": [
        {
          "output_type": "stream",
          "name": "stdout",
          "text": [
            "x.shape: (2000, 11)\n",
            "x_ffn.shape: (2000, 11, 200)\n"
          ]
        }
      ],
      "source": [
        "sample_ffn = FeedForward(200, 11) #11 features only\n",
        "\n",
        "x=batched_dataset_train.take(1).as_numpy_iterator().next()[0]\n",
        "print(\"x.shape:\", x.shape)\n",
        "\n",
        "#creating the embedding\n",
        "x_embed=batched_dataset_embed(x)\n",
        "\n",
        "#apply feedforward layer\n",
        "x_ffn=sample_ffn(x_embed)\n",
        "print(\"x_ffn.shape:\",x_ffn.shape)\n",
        "\n"
      ]
    },
    {
      "cell_type": "code",
      "execution_count": null,
      "metadata": {
        "id": "Q7dFStNbS62u"
      },
      "outputs": [],
      "source": [
        "#DecoderLayer\n",
        "class DecoderLayer(tf.keras.layers.Layer):\n",
        "  def __init__(self,\n",
        "               *,\n",
        "               d_model,\n",
        "               num_heads,\n",
        "               dff,\n",
        "               dropout_rate=0.1):\n",
        "    super(DecoderLayer, self).__init__()\n",
        "\n",
        "    self.causal_self_attention = CausalSelfAttention(\n",
        "        num_heads=num_heads,\n",
        "        key_dim=d_model,\n",
        "        dropout=dropout_rate)\n",
        "\n",
        "\n",
        "\n",
        "    self.ffn = FeedForward(d_model, dff)\n",
        "\n",
        "  def call(self, x):\n",
        "    x = self.causal_self_attention(x)\n",
        "\n",
        "    x = self.ffn(x)\n",
        "    return x\n",
        "\n",
        "\n"
      ]
    },
    {
      "cell_type": "markdown",
      "source": [
        "<p>Let's test it</p>"
      ],
      "metadata": {
        "id": "YLk0uqZMEKfo"
      }
    },
    {
      "cell_type": "code",
      "execution_count": null,
      "metadata": {
        "id": "bNiKIJHxifN-",
        "colab": {
          "base_uri": "https://localhost:8080/"
        },
        "outputId": "89adbeac-cd7f-4915-98b6-a784149b3823"
      },
      "outputs": [
        {
          "output_type": "stream",
          "name": "stdout",
          "text": [
            "x.shape: (2000, 11)\n",
            "x_sample_decoder_layer_output.shape: (2000, 11, 200)\n"
          ]
        }
      ],
      "source": [
        "sample_decoder_layer = DecoderLayer(d_model=200, num_heads=4, dff=11)\n",
        "\n",
        "x=batched_dataset_train.take(1).as_numpy_iterator().next()[0]\n",
        "print(\"x.shape:\", x.shape)\n",
        "\n",
        "#creating the embedding\n",
        "x_embed=batched_dataset_embed(x)\n",
        "\n",
        "#apply Decoder layer\n",
        "x_sample_decoder_layer_output = sample_decoder_layer(x_embed)\n",
        "print(\"x_sample_decoder_layer_output.shape:\",x_sample_decoder_layer_output.shape)\n",
        "\n"
      ]
    },
    {
      "cell_type": "markdown",
      "source": [
        "<h4> The Decoder </h4>"
      ],
      "metadata": {
        "id": "WdP-p3HIMSVV"
      }
    },
    {
      "cell_type": "code",
      "execution_count": null,
      "metadata": {
        "id": "AozxKVN4il17"
      },
      "outputs": [],
      "source": [
        "# Decoder\n",
        "class Decoder(tf.keras.layers.Layer):\n",
        "  def __init__(self, *, num_layers, d_model, num_heads, dff,X,features_list,\n",
        "               dropout_rate=0.1):\n",
        "    super(Decoder, self).__init__()\n",
        "\n",
        "    self.d_model = d_model\n",
        "    self.num_layers = num_layers\n",
        "\n",
        "    self.batch_embedding = BatchEmbedding(self.d_model,X,train_features)\n",
        "    self.dropout = tf.keras.layers.Dropout(dropout_rate)\n",
        "    self.dec_layers = [\n",
        "        DecoderLayer(d_model=d_model, num_heads=num_heads,\n",
        "                     dff=dff, dropout_rate=dropout_rate)\n",
        "        for _ in range(num_layers)]\n",
        "\n",
        "    self.last_attn_scores = None\n",
        "\n",
        "  def call(self, x):\n",
        "\n",
        "    x = self.batch_embedding(x)\n",
        "\n",
        "    x = self.dropout(x)\n",
        "\n",
        "    for i in range(self.num_layers):\n",
        "      x  = self.dec_layers[i](x)\n",
        "\n",
        "    return x"
      ]
    },
    {
      "cell_type": "code",
      "execution_count": null,
      "metadata": {
        "id": "KefZpuvjj8eQ",
        "colab": {
          "base_uri": "https://localhost:8080/"
        },
        "outputId": "749debc8-4ff3-4981-9803-171c0a7dc10a"
      },
      "outputs": [
        {
          "output_type": "stream",
          "name": "stdout",
          "text": [
            "x.shape: (2000, 11)\n",
            "x_output.shape: (2000, 11, 300)\n"
          ]
        }
      ],
      "source": [
        "#Test the decoder:\n",
        "\n",
        "#X,\n",
        "features_list=['Year', 'Month','Day','Hour','Min','Sec', 'InteractionTime', 'BannerSize_num',\n",
        "                  'Brand_num', 'colour_num', 'Website_num']\n",
        "# Instantiate the decoder.\n",
        "sample_decoder = Decoder(num_layers=1,\n",
        "                         d_model=300,#100,\n",
        "                         num_heads=4,\n",
        "                         dff=11,\n",
        "                         X=X,\n",
        "                         features_list=features_list,\n",
        "                         )\n",
        "\n",
        "sample_dataset=batched_dataset_train.take(1)\n",
        "x,y=sample_dataset.as_numpy_iterator().next()\n",
        "print(\"x.shape:\", x.shape)\n",
        "\n",
        "x_output = sample_decoder(x)\n",
        "\n",
        "print(\"x_output.shape:\",x_output.shape)\n"
      ]
    },
    {
      "cell_type": "markdown",
      "source": [
        "<h4> The Transformer </h4>"
      ],
      "metadata": {
        "id": "lNrVcpElMgFE"
      }
    },
    {
      "cell_type": "code",
      "execution_count": null,
      "metadata": {
        "id": "cHQ12HHvkMl0"
      },
      "outputs": [],
      "source": [
        "class Transformer(tf.keras.Model):\n",
        "  def __init__(self, *, num_layers, d_model, num_heads, dff,X,features_list,\n",
        "               dropout_rate=0.1):\n",
        "    super().__init__()\n",
        "\n",
        "    self.decoder = Decoder(num_layers=num_layers, d_model=d_model,\n",
        "                           num_heads=num_heads, dff=dff,\n",
        "                           X=X,\n",
        "                           features_list=features_list,\n",
        "                           dropout_rate=dropout_rate)\n",
        "\n",
        "\n",
        "    self.reduce_layer = tf.keras.layers.Flatten()\n",
        "\n",
        "\n",
        "  def call(self, inputs):\n",
        "\n",
        "    # just a single instance of our data...\n",
        "    x  = inputs\n",
        "\n",
        "    # calling our decoder\n",
        "    x = self.decoder(x)  # (batch_size, target_len, d_model)\n",
        "\n",
        "    #flattern the previous output\n",
        "    x=self.reduce_layer(x)\n",
        "\n",
        "\n",
        "    logits = x\n",
        "\n",
        "\n",
        "    try:\n",
        "      # Drop the keras mask, so it doesn't scale the losses/metrics.\n",
        "      # b/250038731\n",
        "      del logits._keras_mask\n",
        "    except AttributeError:\n",
        "      pass\n",
        "\n",
        "    # Return the final output.\n",
        "    return logits"
      ]
    },
    {
      "cell_type": "markdown",
      "source": [
        "<p> Let's try our transformer model.</p>"
      ],
      "metadata": {
        "id": "T4LbFRt_Fvim"
      }
    },
    {
      "cell_type": "code",
      "execution_count": null,
      "metadata": {
        "id": "tga6A-ksnNMt"
      },
      "outputs": [],
      "source": [
        "#Try it out\n",
        "#Instantiate the Transformer model:\n",
        "\n",
        "\n",
        "features_list=['Year', 'Month','Day','Hour','Min','Sec', 'InteractionTime', 'BannerSize_num',\n",
        "                  'Brand_num', 'colour_num', 'Website_num'],\n",
        "\n",
        "transformer = Transformer(\n",
        "    num_layers=3,\n",
        "    d_model=100,\n",
        "    num_heads=2,\n",
        "    dff=11,\n",
        "    X=X,\n",
        "    features_list=features_list,\n",
        "    dropout_rate=dropout_rate)\n",
        "\n",
        "\n",
        "transformer_ = Transformer(\n",
        "    num_layers=3,\n",
        "    d_model=100,\n",
        "    num_heads=2,\n",
        "    dff=11,\n",
        "    X=X,\n",
        "    features_list=features_list,\n",
        "    dropout_rate=dropout_rate)\n",
        "\n"
      ]
    },
    {
      "cell_type": "markdown",
      "source": [
        "<p> Let's test it.</p>"
      ],
      "metadata": {
        "id": "M31Ppo9-F_rB"
      }
    },
    {
      "cell_type": "code",
      "execution_count": null,
      "metadata": {
        "colab": {
          "base_uri": "https://localhost:8080/"
        },
        "id": "f6GOU4LOnRCz",
        "outputId": "ebe23e81-c208-4738-e1fb-30fc2c20fe14"
      },
      "outputs": [
        {
          "output_type": "stream",
          "name": "stdout",
          "text": [
            "(2000, 11)\n",
            "(2000, 1100)\n"
          ]
        }
      ],
      "source": [
        "#Test it:\n",
        "\n",
        "sample_dataset=batched_dataset_train.take(1)\n",
        "x,y=sample_dataset.as_numpy_iterator().next()\n",
        "print(x.shape)\n",
        "\n",
        "x_output = output = transformer(x)\n",
        "\n",
        "print(x_output.shape)\n"
      ]
    },
    {
      "cell_type": "code",
      "source": [
        "transformer.summary()\n"
      ],
      "metadata": {
        "colab": {
          "base_uri": "https://localhost:8080/"
        },
        "id": "q3DKWwsBGU7K",
        "outputId": "b4282ddd-e260-4d74-b1a0-7ad1bb7019fc"
      },
      "execution_count": null,
      "outputs": [
        {
          "output_type": "stream",
          "name": "stdout",
          "text": [
            "Model: \"transformer\"\n",
            "_________________________________________________________________\n",
            " Layer (type)                Output Shape              Param #   \n",
            "=================================================================\n",
            " decoder_1 (Decoder)         multiple                  477133    \n",
            "                                                                 \n",
            " flatten (Flatten)           multiple                  0         \n",
            "                                                                 \n",
            "=================================================================\n",
            "Total params: 477133 (1.82 MB)\n",
            "Trainable params: 477133 (1.82 MB)\n",
            "Non-trainable params: 0 (0.00 Byte)\n",
            "_________________________________________________________________\n"
          ]
        }
      ]
    },
    {
      "cell_type": "markdown",
      "source": [
        "<p>"
      ],
      "metadata": {
        "id": "MGw36CobGPvq"
      }
    },
    {
      "cell_type": "markdown",
      "source": [
        "<p> As one can see, our slight modified version of the transformer model only output a flattern tensor of values representing the extracted features from our dataset that will be used later on for classification purpose.</p>\n",
        "\n",
        "<p> In this approach, we will use mainly the transformer to extract meaningful insight from our data, then used another model to train each data class set for classification.</p>\n",
        "<p> In this view, we are goind to have two models: <ul><li>model_pos: trained on the data that lead to a click by the user</li> <li>model_neg: trained on the data that lead to a \"view only\" by the user</li></ul></p>\n",
        "<p>The idea is to store the representation of all these features in the transformer model and used them later for a full classification by combining these two models.</p>"
      ],
      "metadata": {
        "id": "P_JL2Px4GdGD"
      }
    },
    {
      "cell_type": "markdown",
      "source": [
        "<p> Let's defined our two models.</p>"
      ],
      "metadata": {
        "id": "ABcZLwnTIooc"
      }
    },
    {
      "cell_type": "code",
      "source": [
        "#model_positive to train the positive class data\n",
        "#in order to extract the features to be used from the data\n",
        "\n",
        "model_pos=tf.keras.Sequential()\n",
        "model_pos.add(transformer)\n",
        "model_pos.add(tf.keras.layers.Dense(1,activation='sigmoid'))\n",
        "\n",
        "#model_negative to train the positive class data\n",
        "#in order to extract the features to be used from the data\n",
        "model_neg=tf.keras.Sequential()\n",
        "model_neg.add(transformer_)\n",
        "model_neg.add(tf.keras.layers.Dense(1,activation='sigmoid'))\n"
      ],
      "metadata": {
        "id": "XbkVKkG3PNh4"
      },
      "execution_count": null,
      "outputs": []
    },
    {
      "cell_type": "code",
      "source": [
        "#Test it:\n",
        "\n",
        "sample_dataset=batched_dataset_train.take(1)\n",
        "x,y=sample_dataset.as_numpy_iterator().next()\n",
        "print(x.shape)\n",
        "\n",
        "x_output_pos  = model_pos(x)\n",
        "x_output_neg  = model_neg(x)\n",
        "\n",
        "print(\"x_output_pos:\", x_output_pos.shape)\n",
        "print(\"x_output_neg:\", x_output_neg.shape)"
      ],
      "metadata": {
        "colab": {
          "base_uri": "https://localhost:8080/"
        },
        "id": "vlPJVamTqb_e",
        "outputId": "3409b60b-3dc5-46cb-8eef-0c6a12fd7833"
      },
      "execution_count": null,
      "outputs": [
        {
          "output_type": "stream",
          "name": "stdout",
          "text": [
            "(2000, 11)\n",
            "x_output_pos: (2000, 1)\n",
            "x_output_neg: (2000, 1)\n"
          ]
        }
      ]
    },
    {
      "cell_type": "code",
      "source": [
        "\n",
        "model_pos.summary()\n",
        "model_neg.summary()"
      ],
      "metadata": {
        "colab": {
          "base_uri": "https://localhost:8080/"
        },
        "id": "3a2wC3qWadpH",
        "outputId": "d73fb592-a72b-4b8d-f5b0-eda3fb439e59"
      },
      "execution_count": null,
      "outputs": [
        {
          "output_type": "stream",
          "name": "stdout",
          "text": [
            "Model: \"sequential_11\"\n",
            "_________________________________________________________________\n",
            " Layer (type)                Output Shape              Param #   \n",
            "=================================================================\n",
            " transformer (Transformer)   (2000, 1100)              477133    \n",
            "                                                                 \n",
            " dense_22 (Dense)            (2000, 1)                 1101      \n",
            "                                                                 \n",
            "=================================================================\n",
            "Total params: 478234 (1.82 MB)\n",
            "Trainable params: 478234 (1.82 MB)\n",
            "Non-trainable params: 0 (0.00 Byte)\n",
            "_________________________________________________________________\n",
            "Model: \"sequential_12\"\n",
            "_________________________________________________________________\n",
            " Layer (type)                Output Shape              Param #   \n",
            "=================================================================\n",
            " transformer_1 (Transformer  (2000, 1100)              477133    \n",
            " )                                                               \n",
            "                                                                 \n",
            " dense_23 (Dense)            (2000, 1)                 1101      \n",
            "                                                                 \n",
            "=================================================================\n",
            "Total params: 478234 (1.82 MB)\n",
            "Trainable params: 478234 (1.82 MB)\n",
            "Non-trainable params: 0 (0.00 Byte)\n",
            "_________________________________________________________________\n"
          ]
        }
      ]
    },
    {
      "cell_type": "markdown",
      "source": [
        "<p> As one can see, the two models looks alike.</p>"
      ],
      "metadata": {
        "id": "Ky0Z7fakJhzZ"
      }
    },
    {
      "cell_type": "markdown",
      "source": [
        "<h3> The Combiner </h3>"
      ],
      "metadata": {
        "id": "aEtds8L9Jogk"
      }
    },
    {
      "cell_type": "markdown",
      "source": [
        "<p> The model is going to be use to combined the two trained previous model for classification.The idea here is to give a chance to each class to at least be \"known\" by the model. Because we are dealing with a very huge imbalanced dataset, training the whole model once will cause the positive samples to become almost inexistant for the model.</p>"
      ],
      "metadata": {
        "id": "-Nuk5s97JxPo"
      }
    },
    {
      "cell_type": "code",
      "source": [
        "class Combiner(tf.keras.Model):\n",
        "  def __init__(self, *, transformer_pos:tf.keras.Model, transformer_neg:tf.keras.Model):\n",
        "    super().__init__()\n",
        "\n",
        "    #transformer model specialized on positive samples\n",
        "    self.trans_pos=transformer_pos\n",
        "\n",
        "    #transformer model specialized on negative samples\n",
        "    self.trans_neg=transformer_neg\n",
        "\n",
        "    #layer norm\n",
        "    self.layernorm = tf.keras.layers.LayerNormalization()\n",
        "    #two dense layers\n",
        "    self.previous_layer = tf.keras.layers.Dense(1200) #for binary classification in our case\n",
        "\n",
        "    self.previous_layer_1 = tf.keras.layers.Dense(1200) #for binary classification in our case\n",
        "\n",
        "    self.final_layer = tf.keras.layers.Dense(2, activation='softmax')\n",
        "\n",
        "\n",
        "  def call(self, inputs):\n",
        "    x  = inputs\n",
        "    output_pos=self.trans_pos(x)\n",
        "    output_neg=self.trans_neg(x)\n",
        "\n",
        "    x=tf.concat([output_pos,output_neg],axis=1)\n",
        "\n",
        "\n",
        "\n",
        "    x=self.previous_layer(x)\n",
        "    x=self.layernorm(x)\n",
        "\n",
        "    x=self.previous_layer_1(x)\n",
        "\n",
        "    # Final linear layer output.\n",
        "    logits = self.final_layer(x)\n",
        "\n",
        "\n",
        "\n",
        "#    try:\n",
        "      # Drop the keras mask, so it doesn't scale the losses/metrics.\n",
        "      # b/250038731\n",
        " #     del logits._keras_mask\n",
        "  #  except AttributeError:\n",
        "  #    pass\n",
        "\n",
        "    # Return the final output and the attention weights.\n",
        "    return logits"
      ],
      "metadata": {
        "id": "ZToEcLE7RZ89"
      },
      "execution_count": null,
      "outputs": []
    },
    {
      "cell_type": "markdown",
      "source": [
        "<h3> Training </h3>\n",
        "\n",
        "<p> Let's create a scheduler and an optimizer to train our model.</p>"
      ],
      "metadata": {
        "id": "KkfDRqd0LcLM"
      }
    },
    {
      "cell_type": "code",
      "execution_count": null,
      "metadata": {
        "id": "vDJvqDZkofys"
      },
      "outputs": [],
      "source": [
        "class CustomSchedule(tf.keras.optimizers.schedules.LearningRateSchedule):\n",
        "  def __init__(self, d_model, warmup_steps=4000):\n",
        "    super().__init__()\n",
        "\n",
        "    self.d_model = d_model\n",
        "    self.d_model = tf.cast(self.d_model, tf.float32)\n",
        "\n",
        "    self.warmup_steps = warmup_steps\n",
        "\n",
        "  def __call__(self, step):\n",
        "    step = tf.cast(step, dtype=tf.float32)\n",
        "    arg1 = tf.math.rsqrt(step)\n",
        "    arg2 = step * (self.warmup_steps ** -1.5)\n",
        "\n",
        "    return tf.math.rsqrt(self.d_model) * tf.math.minimum(arg1, arg2)"
      ]
    },
    {
      "cell_type": "code",
      "execution_count": null,
      "metadata": {
        "id": "gqpFyIvzohs1"
      },
      "outputs": [],
      "source": [
        "learning_rate = CustomSchedule(d_model)\n",
        "\n",
        "optimizer = tf.keras.optimizers.Adam(learning_rate, beta_1=0.9, beta_2=0.98,\n",
        "                                     epsilon=1e-9)\n",
        "\n",
        "optimizer_1 = tf.keras.optimizers.Adam(learning_rate, beta_1=0.9, beta_2=0.98,\n",
        "                                     epsilon=1e-9)\n",
        "\n",
        "optimizer_2 = tf.keras.optimizers.Adam(learning_rate, beta_1=0.9, beta_2=0.98,\n",
        "                                     epsilon=1e-9)\n",
        "\n"
      ]
    },
    {
      "cell_type": "code",
      "execution_count": null,
      "metadata": {
        "id": "OoZADRpFqU4X"
      },
      "outputs": [],
      "source": [
        "#Metrics to be monitored\n",
        "METRICS = [\n",
        "      keras.metrics.BinaryCrossentropy(name='cross entropy'),\n",
        "      keras.metrics.MeanSquaredError(name='Brier score'),\n",
        "      keras.metrics.TruePositives(name='tp'),\n",
        "      keras.metrics.FalsePositives(name='fp'),\n",
        "      keras.metrics.TrueNegatives(name='tn'),\n",
        "      keras.metrics.FalseNegatives(name='fn'),\n",
        "      keras.metrics.BinaryAccuracy(name='accuracy'),\n",
        "      keras.metrics.Precision(name='precision'),\n",
        "      keras.metrics.Recall(name='recall'),\n",
        "      keras.metrics.AUC(name='auc'),\n",
        "      keras.metrics.AUC(name='prc', curve='PR'), # precision-recall curve\n",
        "]\n",
        "\n"
      ]
    },
    {
      "cell_type": "markdown",
      "source": [
        "<p> Next , let's split the train set into positive and negative smaples.</p>"
      ],
      "metadata": {
        "id": "BjPPvlabP6Kv"
      }
    },
    {
      "cell_type": "code",
      "source": [
        "#split\n",
        "x_train_pos=x_train[y_train==1]\n",
        "x_train_neg=x_train[y_train==0]\n",
        "\n",
        "y_train_pos=y_train[y_train==1]\n",
        "y_train_neg=y_train[y_train==0]\n",
        "\n",
        "\n",
        "\n"
      ],
      "metadata": {
        "id": "TuN2VBudKge6"
      },
      "execution_count": null,
      "outputs": []
    },
    {
      "cell_type": "markdown",
      "source": [
        "<p> Let's compile and train both models.</p>"
      ],
      "metadata": {
        "id": "HInnqLy4QC6n"
      }
    },
    {
      "cell_type": "markdown",
      "source": [
        "<h4> The Positive Model </h4>"
      ],
      "metadata": {
        "id": "RMQftrLTSppW"
      }
    },
    {
      "cell_type": "code",
      "execution_count": null,
      "metadata": {
        "colab": {
          "base_uri": "https://localhost:8080/"
        },
        "id": "1tr1reAuqxSi",
        "outputId": "bf946d99-e89a-4e7a-c832-4330fc0c3233"
      },
      "outputs": [
        {
          "output_type": "stream",
          "name": "stdout",
          "text": [
            "Epoch 1/10\n",
            "7/7 [==============================] - 41s 6s/step - loss: 0.1229 - cross entropy: 2.5376 - Brier score: 0.7889 - tp: 178.0000 - fp: 184872.0000 - tn: 2574.0000 - fn: 3.0000 - accuracy: 0.0147 - precision: 9.6190e-04 - recall: 0.9834 - auc: 0.5262 - prc: 0.0010 - val_loss: 2.8180 - val_cross entropy: 2.8180 - val_Brier score: 0.8318 - val_tp: 54.0000 - val_fp: 186221.0000 - val_tn: 1225.0000 - val_fn: 0.0000e+00 - val_accuracy: 0.0068 - val_precision: 2.8989e-04 - val_recall: 1.0000 - val_auc: 0.4790 - val_prc: 2.8266e-04\n",
            "Epoch 2/10\n",
            "7/7 [==============================] - 41s 7s/step - loss: 0.0990 - cross entropy: 0.0990 - Brier score: 0.0177 - tp: 126.0000 - fp: 0.0000e+00 - tn: 0.0000e+00 - fn: 1.0000 - accuracy: 0.9921 - precision: 1.0000 - recall: 0.9921 - auc: 0.0000e+00 - prc: 1.0000 - val_loss: 3.1010 - val_cross entropy: 3.1010 - val_Brier score: 0.8672 - val_tp: 54.0000 - val_fp: 186876.0000 - val_tn: 570.0000 - val_fn: 0.0000e+00 - val_accuracy: 0.0033 - val_precision: 2.8888e-04 - val_recall: 1.0000 - val_auc: 0.4801 - val_prc: 2.9735e-04\n",
            "Epoch 3/10\n",
            "7/7 [==============================] - 41s 7s/step - loss: 0.0748 - cross entropy: 0.0748 - Brier score: 0.0110 - tp: 126.0000 - fp: 0.0000e+00 - tn: 0.0000e+00 - fn: 1.0000 - accuracy: 0.9921 - precision: 1.0000 - recall: 0.9921 - auc: 0.0000e+00 - prc: 1.0000 - val_loss: 3.3731 - val_cross entropy: 3.3731 - val_Brier score: 0.8948 - val_tp: 54.0000 - val_fp: 187206.0000 - val_tn: 240.0000 - val_fn: 0.0000e+00 - val_accuracy: 0.0016 - val_precision: 2.8837e-04 - val_recall: 1.0000 - val_auc: 0.4786 - val_prc: 2.7605e-04\n",
            "Epoch 4/10\n",
            "7/7 [==============================] - 41s 7s/step - loss: 0.0573 - cross entropy: 0.0573 - Brier score: 0.0074 - tp: 127.0000 - fp: 0.0000e+00 - tn: 0.0000e+00 - fn: 0.0000e+00 - accuracy: 1.0000 - precision: 1.0000 - recall: 1.0000 - auc: 0.0000e+00 - prc: 1.0000 - val_loss: 3.6253 - val_cross entropy: 3.6253 - val_Brier score: 0.9156 - val_tp: 54.0000 - val_fp: 187333.0000 - val_tn: 113.0000 - val_fn: 0.0000e+00 - val_accuracy: 8.9067e-04 - val_precision: 2.8817e-04 - val_recall: 1.0000 - val_auc: 0.4795 - val_prc: 2.8157e-04\n",
            "Epoch 5/10\n",
            "7/7 [==============================] - 41s 7s/step - loss: 0.0385 - cross entropy: 0.0385 - Brier score: 0.0031 - tp: 127.0000 - fp: 0.0000e+00 - tn: 0.0000e+00 - fn: 0.0000e+00 - accuracy: 1.0000 - precision: 1.0000 - recall: 1.0000 - auc: 0.0000e+00 - prc: 1.0000 - val_loss: 3.8654 - val_cross entropy: 3.8654 - val_Brier score: 0.9318 - val_tp: 54.0000 - val_fp: 187398.0000 - val_tn: 48.0000 - val_fn: 0.0000e+00 - val_accuracy: 5.4400e-04 - val_precision: 2.8807e-04 - val_recall: 1.0000 - val_auc: 0.4735 - val_prc: 2.9166e-04\n",
            "Epoch 6/10\n",
            "7/7 [==============================] - 41s 7s/step - loss: 0.0328 - cross entropy: 0.0328 - Brier score: 0.0024 - tp: 127.0000 - fp: 0.0000e+00 - tn: 0.0000e+00 - fn: 0.0000e+00 - accuracy: 1.0000 - precision: 1.0000 - recall: 1.0000 - auc: 0.0000e+00 - prc: 1.0000 - val_loss: 4.0840 - val_cross entropy: 4.0840 - val_Brier score: 0.9440 - val_tp: 54.0000 - val_fp: 187425.0000 - val_tn: 21.0000 - val_fn: 0.0000e+00 - val_accuracy: 4.0000e-04 - val_precision: 2.8803e-04 - val_recall: 1.0000 - val_auc: 0.4774 - val_prc: 2.8112e-04\n",
            "Epoch 7/10\n",
            "7/7 [==============================] - 82s 14s/step - loss: 0.0330 - cross entropy: 0.0330 - Brier score: 0.0034 - tp: 127.0000 - fp: 0.0000e+00 - tn: 0.0000e+00 - fn: 0.0000e+00 - accuracy: 1.0000 - precision: 1.0000 - recall: 1.0000 - auc: 0.0000e+00 - prc: 1.0000 - val_loss: 4.2997 - val_cross entropy: 4.2997 - val_Brier score: 0.9540 - val_tp: 54.0000 - val_fp: 187438.0000 - val_tn: 8.0000 - val_fn: 0.0000e+00 - val_accuracy: 3.3067e-04 - val_precision: 2.8801e-04 - val_recall: 1.0000 - val_auc: 0.4770 - val_prc: 2.8107e-04\n",
            "Epoch 8/10\n",
            "7/7 [==============================] - 42s 7s/step - loss: 0.0240 - cross entropy: 0.0240 - Brier score: 0.0014 - tp: 127.0000 - fp: 0.0000e+00 - tn: 0.0000e+00 - fn: 0.0000e+00 - accuracy: 1.0000 - precision: 1.0000 - recall: 1.0000 - auc: 0.0000e+00 - prc: 1.0000 - val_loss: 4.5109 - val_cross entropy: 4.5109 - val_Brier score: 0.9622 - val_tp: 54.0000 - val_fp: 187444.0000 - val_tn: 2.0000 - val_fn: 0.0000e+00 - val_accuracy: 2.9867e-04 - val_precision: 2.8800e-04 - val_recall: 1.0000 - val_auc: 0.4692 - val_prc: 2.6260e-04\n",
            "Epoch 9/10\n",
            "7/7 [==============================] - 52s 9s/step - loss: 0.0187 - cross entropy: 0.0187 - Brier score: 0.0011 - tp: 127.0000 - fp: 0.0000e+00 - tn: 0.0000e+00 - fn: 0.0000e+00 - accuracy: 1.0000 - precision: 1.0000 - recall: 1.0000 - auc: 0.0000e+00 - prc: 1.0000 - val_loss: 4.7137 - val_cross entropy: 4.7137 - val_Brier score: 0.9687 - val_tp: 54.0000 - val_fp: 187444.0000 - val_tn: 2.0000 - val_fn: 0.0000e+00 - val_accuracy: 2.9867e-04 - val_precision: 2.8800e-04 - val_recall: 1.0000 - val_auc: 0.4842 - val_prc: 2.7398e-04\n",
            "Epoch 10/10\n",
            "7/7 [==============================] - 37s 6s/step - loss: 0.0147 - cross entropy: 0.0147 - Brier score: 5.3984e-04 - tp: 127.0000 - fp: 0.0000e+00 - tn: 0.0000e+00 - fn: 0.0000e+00 - accuracy: 1.0000 - precision: 1.0000 - recall: 1.0000 - auc: 0.0000e+00 - prc: 1.0000 - val_loss: 4.9019 - val_cross entropy: 4.9019 - val_Brier score: 0.9737 - val_tp: 54.0000 - val_fp: 187444.0000 - val_tn: 2.0000 - val_fn: 0.0000e+00 - val_accuracy: 2.9867e-04 - val_precision: 2.8800e-04 - val_recall: 1.0000 - val_auc: 0.4605 - val_prc: 2.5314e-04\n"
          ]
        }
      ],
      "source": [
        "\n",
        "model_pos.compile(\n",
        "    loss=keras.losses.BinaryCrossentropy(),\n",
        "    optimizer=optimizer,\n",
        "    metrics=METRICS)\n",
        "\n",
        "EPOCHS = 20\n",
        "BATCH_SIZE = 2000\n",
        "\n",
        "\n",
        "early_stopping = tf.keras.callbacks.EarlyStopping(\n",
        "    monitor='val_prc',\n",
        "    verbose=1,\n",
        "    patience=10,\n",
        "    mode='max',\n",
        "    restore_best_weights=True)\n",
        "\n",
        "model_weights_train_pos = os.path.join('/', 'model_weights_train_pos')\n",
        "\n",
        "model_pos.load_weights( model_weights_train_pos)\n",
        "baseline_history_pos = model_pos.fit(\n",
        "    x_train_pos,\n",
        "    y_train_pos,\n",
        "    batch_size=20,\n",
        "    epochs=EPOCHS,\n",
        "    validation_data= (x_val, y_val))\n",
        "\n"
      ]
    },
    {
      "cell_type": "code",
      "source": [
        "#save model weight\n",
        "model_weights_train_pos = os.path.join('/', 'model_weights_train_pos')\n",
        "\n",
        "model_pos.save_weights( model_weights_train_pos)"
      ],
      "metadata": {
        "id": "FoHfbHEdzz6e"
      },
      "execution_count": null,
      "outputs": []
    },
    {
      "cell_type": "markdown",
      "source": [
        "<h4> Check Train History</h4>"
      ],
      "metadata": {
        "id": "Fp9NsPj3QU11"
      }
    },
    {
      "cell_type": "code",
      "execution_count": null,
      "metadata": {
        "id": "2_rlGoR_guWz"
      },
      "outputs": [],
      "source": [
        "def plot_metrics(history):\n",
        "  metrics = ['loss', 'prc', 'precision', 'recall']\n",
        "  colors = plt.rcParams['axes.prop_cycle'].by_key()['color']\n",
        "  for n, metric in enumerate(metrics):\n",
        "    name = metric.replace(\"_\",\" \").capitalize()\n",
        "    plt.subplot(2,2,n+1)\n",
        "    plt.plot(history.epoch, history.history[metric], color=colors[0], label='Train')\n",
        "    plt.plot(history.epoch, history.history['val_'+metric],\n",
        "             color=colors[0], linestyle=\"--\", label='Val')\n",
        "    plt.xlabel('Epoch')\n",
        "    plt.ylabel(name)\n",
        "    if metric == 'loss':\n",
        "      plt.ylim([0, plt.ylim()[1]])\n",
        "    elif metric == 'auc':\n",
        "      plt.ylim([0.8,1])\n",
        "    else:\n",
        "      plt.ylim([0,1])\n",
        "\n",
        "    plt.legend()\n"
      ]
    },
    {
      "cell_type": "code",
      "execution_count": null,
      "metadata": {
        "colab": {
          "base_uri": "https://localhost:8080/",
          "height": 455
        },
        "id": "U5slY2Rjgy2Y",
        "outputId": "1c806b82-3959-4f7d-bb84-ce84dd20e63d"
      },
      "outputs": [
        {
          "output_type": "display_data",
          "data": {
            "text/plain": [
              "<Figure size 640x480 with 4 Axes>"
            ],
            "image/png": "[encoded data removed]"
          },
          "metadata": {}
        }
      ],
      "source": [
        "plot_metrics(baseline_history_pos)"
      ]
    },
    {
      "cell_type": "markdown",
      "source": [
        "<h4> Evaluate Metrics</h4>"
      ],
      "metadata": {
        "id": "dAZVb-r5S3Lb"
      }
    },
    {
      "cell_type": "code",
      "source": [
        "train_predictions_baseline = model_pos.predict(x_train, batch_size=BATCH_SIZE)\n",
        "val_predictions_baseline = model_pos.predict(x_val, batch_size=BATCH_SIZE)\n",
        "test_predictions_baseline = model_pos.predict(x_test, batch_size=BATCH_SIZE)\n"
      ],
      "metadata": {
        "colab": {
          "base_uri": "https://localhost:8080/"
        },
        "id": "i1XAcIk_EmaV",
        "outputId": "a4164234-a5cd-4411-94cb-6cc01b81cd82"
      },
      "execution_count": null,
      "outputs": [
        {
          "output_type": "stream",
          "name": "stdout",
          "text": [
            "282/282 [==============================] - 9s 29ms/step\n",
            "94/94 [==============================] - 3s 28ms/step\n",
            "125/125 [==============================] - 4s 28ms/step\n"
          ]
        }
      ]
    },
    {
      "cell_type": "code",
      "execution_count": null,
      "metadata": {
        "id": "nT8XfFRIhOR2"
      },
      "outputs": [],
      "source": [
        "from sklearn.metrics import classification_report, confusion_matrix\n",
        "\n",
        "def plot_cm(labels, predictions, threshold=0.5):\n",
        "  cm = confusion_matrix(labels, predictions > threshold)\n",
        "\n",
        "  plt.figure(figsize=(5,5))\n",
        "  sns.heatmap(cm, annot=True, fmt=\"d\")\n",
        "  plt.title('Confusion matrix @{:.2f}'.format(threshold))\n",
        "  plt.ylabel('Actual label')\n",
        "  plt.xlabel('Predicted label')\n",
        "\n",
        "  print(' TN(True Negatives): ', cm[0][0])\n",
        "  print(' FP(False Positives): ', cm[0][1])\n",
        "  print(' FN(False Negatives): ', cm[1][0])\n",
        "  print(' TP(True Positives): ', cm[1][1])\n"
      ]
    },
    {
      "cell_type": "code",
      "source": [
        "print(classification_report(y_test.to_numpy(), test_predictions_baseline>.5))\n",
        "\n",
        "plot_cm(y_test, test_predictions_baseline)\n",
        "\n"
      ],
      "metadata": {
        "colab": {
          "base_uri": "https://localhost:8080/",
          "height": 713
        },
        "id": "OKv21hnkQsrB",
        "outputId": "2c1c4270-ebae-4b82-fbdc-0f27dbc2856d"
      },
      "execution_count": null,
      "outputs": [
        {
          "output_type": "stream",
          "name": "stdout",
          "text": [
            "              precision    recall  f1-score   support\n",
            "\n",
            "           0       1.00      0.00      0.00    249937\n",
            "           1       0.00      1.00      0.00        63\n",
            "\n",
            "    accuracy                           0.00    250000\n",
            "   macro avg       0.50      0.50      0.00    250000\n",
            "weighted avg       1.00      0.00      0.00    250000\n",
            "\n",
            " TN(True Negatives):  1\n",
            " FP(False Positives):  249936\n",
            " FN(False Negatives):  0\n",
            " TP(True Positives):  63\n"
          ]
        },
        {
          "output_type": "display_data",
          "data": {
            "text/plain": [
              "<Figure size 500x500 with 2 Axes>"
            ],
            "image/png": "[encoded data removed]"
          },
          "metadata": {}
        }
      ]
    },
    {
      "cell_type": "markdown",
      "source": [
        "<h4> The Negative Model</h4>"
      ],
      "metadata": {
        "id": "WWqyzugVTAVy"
      }
    },
    {
      "cell_type": "code",
      "source": [
        "\n",
        "EPOCHS = 20\n",
        "BATCH_SIZE = 2000\n",
        "\n",
        "\n",
        "model_neg.compile(\n",
        "    loss=keras.losses.BinaryCrossentropy(),\n",
        "    optimizer=optimizer_1,\n",
        "    metrics=METRICS)\n",
        "\n",
        "\n",
        "early_stopping = tf.keras.callbacks.EarlyStopping(\n",
        "    monitor='val_prc', #'val_auc' ,#\n",
        "    verbose=1,\n",
        "    patience=10,\n",
        "    mode='max',\n",
        "    restore_best_weights=True)\n",
        "\n",
        "\n",
        "baseline_history = model_neg.fit(\n",
        "    x_train_neg,\n",
        "    y_train_neg,\n",
        "    batch_size=BATCH_SIZE,\n",
        "    epochs=EPOCHS,\n",
        "    #steps_per_epoch=20,\n",
        "    validation_data= (x_val, y_val))\n",
        "\n"
      ],
      "metadata": {
        "colab": {
          "base_uri": "https://localhost:8080/"
        },
        "id": "zxLvDkrXnNmf",
        "outputId": "475ee029-d25b-48bc-9ffd-83483256cb3d"
      },
      "execution_count": null,
      "outputs": [
        {
          "output_type": "stream",
          "name": "stdout",
          "text": [
            "Epoch 1/20\n",
            "282/282 [==============================] - 29s 86ms/step - loss: 0.0284 - cross entropy: 0.0906 - Brier score: 0.0229 - tp: 6.0000 - fp: 16909.0000 - tn: 732910.0000 - fn: 48.0000 - accuracy: 0.9774 - precision: 3.5471e-04 - recall: 0.1111 - auc: 0.8386 - prc: 2.6715e-04 - val_loss: 0.0028 - val_cross entropy: 0.0028 - val_Brier score: 2.8794e-04 - val_tp: 0.0000e+00 - val_fp: 0.0000e+00 - val_tn: 187446.0000 - val_fn: 54.0000 - val_accuracy: 0.9997 - val_precision: 0.0000e+00 - val_recall: 0.0000e+00 - val_auc: 0.5000 - val_prc: 2.8800e-04\n",
            "Epoch 2/20\n",
            "282/282 [==============================] - 23s 82ms/step - loss: 3.9262e-05 - cross entropy: 3.9262e-05 - Brier score: 8.2100e-09 - tp: 0.0000e+00 - fp: 0.0000e+00 - tn: 562373.0000 - fn: 0.0000e+00 - accuracy: 1.0000 - precision: 0.0000e+00 - recall: 0.0000e+00 - auc: 0.0000e+00 - prc: 0.0000e+00 - val_loss: 0.0038 - val_cross entropy: 0.0038 - val_Brier score: 2.8800e-04 - val_tp: 0.0000e+00 - val_fp: 0.0000e+00 - val_tn: 187446.0000 - val_fn: 54.0000 - val_accuracy: 0.9997 - val_precision: 0.0000e+00 - val_recall: 0.0000e+00 - val_auc: 0.5000 - val_prc: 2.8800e-04\n",
            "Epoch 3/20\n",
            "282/282 [==============================] - 25s 88ms/step - loss: 1.0352e-06 - cross entropy: 1.0352e-06 - Brier score: 3.2446e-12 - tp: 0.0000e+00 - fp: 0.0000e+00 - tn: 562373.0000 - fn: 0.0000e+00 - accuracy: 1.0000 - precision: 0.0000e+00 - recall: 0.0000e+00 - auc: 0.0000e+00 - prc: 0.0000e+00 - val_loss: 0.0046 - val_cross entropy: 0.0046 - val_Brier score: 2.8800e-04 - val_tp: 0.0000e+00 - val_fp: 0.0000e+00 - val_tn: 187446.0000 - val_fn: 54.0000 - val_accuracy: 0.9997 - val_precision: 0.0000e+00 - val_recall: 0.0000e+00 - val_auc: 0.5000 - val_prc: 2.8800e-04\n",
            "Epoch 4/20\n",
            "282/282 [==============================] - 25s 90ms/step - loss: 6.4642e-08 - cross entropy: 6.4642e-08 - Brier score: 9.6533e-15 - tp: 0.0000e+00 - fp: 0.0000e+00 - tn: 562373.0000 - fn: 0.0000e+00 - accuracy: 1.0000 - precision: 0.0000e+00 - recall: 0.0000e+00 - auc: 0.0000e+00 - prc: 0.0000e+00 - val_loss: 0.0054 - val_cross entropy: 0.0054 - val_Brier score: 2.8800e-04 - val_tp: 0.0000e+00 - val_fp: 0.0000e+00 - val_tn: 187446.0000 - val_fn: 54.0000 - val_accuracy: 0.9997 - val_precision: 0.0000e+00 - val_recall: 0.0000e+00 - val_auc: 0.5000 - val_prc: 2.8800e-04\n",
            "Epoch 5/20\n",
            "282/282 [==============================] - 23s 80ms/step - loss: 3.6958e-09 - cross entropy: 3.6958e-09 - Brier score: 2.9219e-17 - tp: 0.0000e+00 - fp: 0.0000e+00 - tn: 562373.0000 - fn: 0.0000e+00 - accuracy: 1.0000 - precision: 0.0000e+00 - recall: 0.0000e+00 - auc: 0.0000e+00 - prc: 0.0000e+00 - val_loss: 0.0063 - val_cross entropy: 0.0063 - val_Brier score: 2.8800e-04 - val_tp: 0.0000e+00 - val_fp: 0.0000e+00 - val_tn: 187446.0000 - val_fn: 54.0000 - val_accuracy: 0.9997 - val_precision: 0.0000e+00 - val_recall: 0.0000e+00 - val_auc: 0.5000 - val_prc: 2.8800e-04\n",
            "Epoch 6/20\n",
            "282/282 [==============================] - 28s 99ms/step - loss: 1.9073e-10 - cross entropy: 1.9073e-10 - Brier score: 7.2343e-20 - tp: 0.0000e+00 - fp: 0.0000e+00 - tn: 562373.0000 - fn: 0.0000e+00 - accuracy: 1.0000 - precision: 0.0000e+00 - recall: 0.0000e+00 - auc: 0.0000e+00 - prc: 0.0000e+00 - val_loss: 0.0071 - val_cross entropy: 0.0071 - val_Brier score: 2.8800e-04 - val_tp: 0.0000e+00 - val_fp: 0.0000e+00 - val_tn: 187446.0000 - val_fn: 54.0000 - val_accuracy: 0.9997 - val_precision: 0.0000e+00 - val_recall: 0.0000e+00 - val_auc: 0.5000 - val_prc: 2.8800e-04\n",
            "Epoch 7/20\n",
            "282/282 [==============================] - 23s 80ms/step - loss: 1.6023e-11 - cross entropy: 1.6023e-11 - Brier score: 4.1410e-22 - tp: 0.0000e+00 - fp: 0.0000e+00 - tn: 562373.0000 - fn: 0.0000e+00 - accuracy: 1.0000 - precision: 0.0000e+00 - recall: 0.0000e+00 - auc: 0.0000e+00 - prc: 0.0000e+00 - val_loss: 0.0076 - val_cross entropy: 0.0076 - val_Brier score: 2.8800e-04 - val_tp: 0.0000e+00 - val_fp: 0.0000e+00 - val_tn: 187446.0000 - val_fn: 54.0000 - val_accuracy: 0.9997 - val_precision: 0.0000e+00 - val_recall: 0.0000e+00 - val_auc: 0.5000 - val_prc: 2.8800e-04\n",
            "Epoch 8/20\n",
            "282/282 [==============================] - 22s 80ms/step - loss: 3.7939e-12 - cross entropy: 3.7939e-12 - Brier score: 1.9661e-23 - tp: 0.0000e+00 - fp: 0.0000e+00 - tn: 562373.0000 - fn: 0.0000e+00 - accuracy: 1.0000 - precision: 0.0000e+00 - recall: 0.0000e+00 - auc: 0.0000e+00 - prc: 0.0000e+00 - val_loss: 0.0079 - val_cross entropy: 0.0079 - val_Brier score: 2.8800e-04 - val_tp: 0.0000e+00 - val_fp: 0.0000e+00 - val_tn: 187446.0000 - val_fn: 54.0000 - val_accuracy: 0.9997 - val_precision: 0.0000e+00 - val_recall: 0.0000e+00 - val_auc: 0.5000 - val_prc: 2.8800e-04\n",
            "Epoch 9/20\n",
            "282/282 [==============================] - 26s 92ms/step - loss: 1.8051e-12 - cross entropy: 1.8051e-12 - Brier score: 4.2845e-24 - tp: 0.0000e+00 - fp: 0.0000e+00 - tn: 562373.0000 - fn: 0.0000e+00 - accuracy: 1.0000 - precision: 0.0000e+00 - recall: 0.0000e+00 - auc: 0.0000e+00 - prc: 0.0000e+00 - val_loss: 0.0080 - val_cross entropy: 0.0080 - val_Brier score: 2.8800e-04 - val_tp: 0.0000e+00 - val_fp: 0.0000e+00 - val_tn: 187446.0000 - val_fn: 54.0000 - val_accuracy: 0.9997 - val_precision: 0.0000e+00 - val_recall: 0.0000e+00 - val_auc: 0.5000 - val_prc: 2.8800e-04\n",
            "Epoch 10/20\n",
            "282/282 [==============================] - 25s 88ms/step - loss: 1.1340e-12 - cross entropy: 1.1340e-12 - Brier score: 1.6690e-24 - tp: 0.0000e+00 - fp: 0.0000e+00 - tn: 562373.0000 - fn: 0.0000e+00 - accuracy: 1.0000 - precision: 0.0000e+00 - recall: 0.0000e+00 - auc: 0.0000e+00 - prc: 0.0000e+00 - val_loss: 0.0081 - val_cross entropy: 0.0081 - val_Brier score: 2.8800e-04 - val_tp: 0.0000e+00 - val_fp: 0.0000e+00 - val_tn: 187446.0000 - val_fn: 54.0000 - val_accuracy: 0.9997 - val_precision: 0.0000e+00 - val_recall: 0.0000e+00 - val_auc: 0.5000 - val_prc: 2.8800e-04\n",
            "Epoch 11/20\n",
            "282/282 [==============================] - 25s 89ms/step - loss: 8.0380e-13 - cross entropy: 8.0380e-13 - Brier score: 8.4091e-25 - tp: 0.0000e+00 - fp: 0.0000e+00 - tn: 562373.0000 - fn: 0.0000e+00 - accuracy: 1.0000 - precision: 0.0000e+00 - recall: 0.0000e+00 - auc: 0.0000e+00 - prc: 0.0000e+00 - val_loss: 0.0082 - val_cross entropy: 0.0082 - val_Brier score: 2.8800e-04 - val_tp: 0.0000e+00 - val_fp: 0.0000e+00 - val_tn: 187446.0000 - val_fn: 54.0000 - val_accuracy: 0.9997 - val_precision: 0.0000e+00 - val_recall: 0.0000e+00 - val_auc: 0.5000 - val_prc: 2.8800e-04\n",
            "Epoch 12/20\n",
            "282/282 [==============================] - 25s 90ms/step - loss: 6.0939e-13 - cross entropy: 6.0939e-13 - Brier score: 4.8226e-25 - tp: 0.0000e+00 - fp: 0.0000e+00 - tn: 562373.0000 - fn: 0.0000e+00 - accuracy: 1.0000 - precision: 0.0000e+00 - recall: 0.0000e+00 - auc: 0.0000e+00 - prc: 0.0000e+00 - val_loss: 0.0083 - val_cross entropy: 0.0083 - val_Brier score: 2.8800e-04 - val_tp: 0.0000e+00 - val_fp: 0.0000e+00 - val_tn: 187446.0000 - val_fn: 54.0000 - val_accuracy: 0.9997 - val_precision: 0.0000e+00 - val_recall: 0.0000e+00 - val_auc: 0.5000 - val_prc: 2.8800e-04\n",
            "Epoch 13/20\n",
            "282/282 [==============================] - 25s 88ms/step - loss: 4.8286e-13 - cross entropy: 4.8286e-13 - Brier score: 3.0318e-25 - tp: 0.0000e+00 - fp: 0.0000e+00 - tn: 562373.0000 - fn: 0.0000e+00 - accuracy: 1.0000 - precision: 0.0000e+00 - recall: 0.0000e+00 - auc: 0.0000e+00 - prc: 0.0000e+00 - val_loss: 0.0084 - val_cross entropy: 0.0084 - val_Brier score: 2.8800e-04 - val_tp: 0.0000e+00 - val_fp: 0.0000e+00 - val_tn: 187446.0000 - val_fn: 54.0000 - val_accuracy: 0.9997 - val_precision: 0.0000e+00 - val_recall: 0.0000e+00 - val_auc: 0.5000 - val_prc: 2.8800e-04\n",
            "Epoch 14/20\n",
            "282/282 [==============================] - 25s 88ms/step - loss: 3.9398e-13 - cross entropy: 3.9398e-13 - Brier score: 2.0299e-25 - tp: 0.0000e+00 - fp: 0.0000e+00 - tn: 562373.0000 - fn: 0.0000e+00 - accuracy: 1.0000 - precision: 0.0000e+00 - recall: 0.0000e+00 - auc: 0.0000e+00 - prc: 0.0000e+00 - val_loss: 0.0084 - val_cross entropy: 0.0084 - val_Brier score: 2.8800e-04 - val_tp: 0.0000e+00 - val_fp: 0.0000e+00 - val_tn: 187446.0000 - val_fn: 54.0000 - val_accuracy: 0.9997 - val_precision: 0.0000e+00 - val_recall: 0.0000e+00 - val_auc: 0.5000 - val_prc: 2.8800e-04\n",
            "Epoch 15/20\n",
            "282/282 [==============================] - 23s 80ms/step - loss: 3.2972e-13 - cross entropy: 3.2972e-13 - Brier score: 1.4173e-25 - tp: 0.0000e+00 - fp: 0.0000e+00 - tn: 562373.0000 - fn: 0.0000e+00 - accuracy: 1.0000 - precision: 0.0000e+00 - recall: 0.0000e+00 - auc: 0.0000e+00 - prc: 0.0000e+00 - val_loss: 0.0085 - val_cross entropy: 0.0085 - val_Brier score: 2.8800e-04 - val_tp: 0.0000e+00 - val_fp: 0.0000e+00 - val_tn: 187446.0000 - val_fn: 54.0000 - val_accuracy: 0.9997 - val_precision: 0.0000e+00 - val_recall: 0.0000e+00 - val_auc: 0.5000 - val_prc: 2.8800e-04\n",
            "Epoch 16/20\n",
            "282/282 [==============================] - 25s 87ms/step - loss: 2.8428e-13 - cross entropy: 2.8428e-13 - Brier score: 1.0581e-25 - tp: 0.0000e+00 - fp: 0.0000e+00 - tn: 562373.0000 - fn: 0.0000e+00 - accuracy: 1.0000 - precision: 0.0000e+00 - recall: 0.0000e+00 - auc: 0.0000e+00 - prc: 0.0000e+00 - val_loss: 0.0085 - val_cross entropy: 0.0085 - val_Brier score: 2.8800e-04 - val_tp: 0.0000e+00 - val_fp: 0.0000e+00 - val_tn: 187446.0000 - val_fn: 54.0000 - val_accuracy: 0.9997 - val_precision: 0.0000e+00 - val_recall: 0.0000e+00 - val_auc: 0.5000 - val_prc: 2.8800e-04\n",
            "Epoch 17/20\n",
            "282/282 [==============================] - 22s 80ms/step - loss: 2.5033e-13 - cross entropy: 2.5033e-13 - Brier score: 8.2158e-26 - tp: 0.0000e+00 - fp: 0.0000e+00 - tn: 562373.0000 - fn: 0.0000e+00 - accuracy: 1.0000 - precision: 0.0000e+00 - recall: 0.0000e+00 - auc: 0.0000e+00 - prc: 0.0000e+00 - val_loss: 0.0085 - val_cross entropy: 0.0085 - val_Brier score: 2.8800e-04 - val_tp: 0.0000e+00 - val_fp: 0.0000e+00 - val_tn: 187446.0000 - val_fn: 54.0000 - val_accuracy: 0.9997 - val_precision: 0.0000e+00 - val_recall: 0.0000e+00 - val_auc: 0.5000 - val_prc: 2.8800e-04\n",
            "Epoch 18/20\n",
            "282/282 [==============================] - 22s 79ms/step - loss: 2.2452e-13 - cross entropy: 2.2452e-13 - Brier score: 6.5958e-26 - tp: 0.0000e+00 - fp: 0.0000e+00 - tn: 562373.0000 - fn: 0.0000e+00 - accuracy: 1.0000 - precision: 0.0000e+00 - recall: 0.0000e+00 - auc: 0.0000e+00 - prc: 0.0000e+00 - val_loss: 0.0086 - val_cross entropy: 0.0086 - val_Brier score: 2.8800e-04 - val_tp: 0.0000e+00 - val_fp: 0.0000e+00 - val_tn: 187446.0000 - val_fn: 54.0000 - val_accuracy: 0.9997 - val_precision: 0.0000e+00 - val_recall: 0.0000e+00 - val_auc: 0.5000 - val_prc: 2.8800e-04\n",
            "Epoch 19/20\n",
            "282/282 [==============================] - 25s 88ms/step - loss: 2.0432e-13 - cross entropy: 2.0432e-13 - Brier score: 5.4950e-26 - tp: 0.0000e+00 - fp: 0.0000e+00 - tn: 562373.0000 - fn: 0.0000e+00 - accuracy: 1.0000 - precision: 0.0000e+00 - recall: 0.0000e+00 - auc: 0.0000e+00 - prc: 0.0000e+00 - val_loss: 0.0086 - val_cross entropy: 0.0086 - val_Brier score: 2.8800e-04 - val_tp: 0.0000e+00 - val_fp: 0.0000e+00 - val_tn: 187446.0000 - val_fn: 54.0000 - val_accuracy: 0.9997 - val_precision: 0.0000e+00 - val_recall: 0.0000e+00 - val_auc: 0.5000 - val_prc: 2.8800e-04\n",
            "Epoch 20/20\n",
            "282/282 [==============================] - 25s 88ms/step - loss: 1.8742e-13 - cross entropy: 1.8742e-13 - Brier score: 4.5817e-26 - tp: 0.0000e+00 - fp: 0.0000e+00 - tn: 562373.0000 - fn: 0.0000e+00 - accuracy: 1.0000 - precision: 0.0000e+00 - recall: 0.0000e+00 - auc: 0.0000e+00 - prc: 0.0000e+00 - val_loss: 0.0086 - val_cross entropy: 0.0086 - val_Brier score: 2.8800e-04 - val_tp: 0.0000e+00 - val_fp: 0.0000e+00 - val_tn: 187446.0000 - val_fn: 54.0000 - val_accuracy: 0.9997 - val_precision: 0.0000e+00 - val_recall: 0.0000e+00 - val_auc: 0.5000 - val_prc: 2.8800e-04\n"
          ]
        }
      ]
    },
    {
      "cell_type": "markdown",
      "source": [
        "<p> Let's save the negative model as well .</p>"
      ],
      "metadata": {
        "id": "ak2G8cGwTT_V"
      }
    },
    {
      "cell_type": "code",
      "source": [
        "\n",
        "model_weights_train_neg = os.path.join('/', 'model_weights_train_neg')\n",
        "\n",
        "model_neg.save_weights( model_weights_train_neg)"
      ],
      "metadata": {
        "id": "X7wDL7YXm9AX"
      },
      "execution_count": null,
      "outputs": []
    },
    {
      "cell_type": "markdown",
      "source": [
        "<h4> Check train history</h4>"
      ],
      "metadata": {
        "id": "zUl6Rj2uTesM"
      }
    },
    {
      "cell_type": "code",
      "source": [
        "plot_metrics(baseline_history)"
      ],
      "metadata": {
        "colab": {
          "base_uri": "https://localhost:8080/",
          "height": 455
        },
        "id": "dUgwGSAlTn4a",
        "outputId": "362df786-dfce-4d03-8c50-e7cbd602125b"
      },
      "execution_count": null,
      "outputs": [
        {
          "output_type": "display_data",
          "data": {
            "text/plain": [
              "<Figure size 640x480 with 4 Axes>"
            ],
            "image/png": "[encoded data removed]"
          },
          "metadata": {}
        }
      ]
    },
    {
      "cell_type": "markdown",
      "source": [
        "<h4> Evaluate Metrics</h4>"
      ],
      "metadata": {
        "id": "LRI4T3KET7ZX"
      }
    },
    {
      "cell_type": "code",
      "source": [
        "train_predictions_baseline = model_neg.predict(x_train, batch_size=BATCH_SIZE)\n",
        "val_predictions_baseline = model_neg.predict(x_val, batch_size=BATCH_SIZE)\n",
        "test_predictions_baseline = model_neg.predict(x_test, batch_size=BATCH_SIZE)\n"
      ],
      "metadata": {
        "colab": {
          "base_uri": "https://localhost:8080/"
        },
        "outputId": "4377806a-ca50-454f-825f-74dd583146b7",
        "id": "AUmkdGw3SkBE"
      },
      "execution_count": null,
      "outputs": [
        {
          "output_type": "stream",
          "name": "stdout",
          "text": [
            "282/282 [==============================] - 8s 27ms/step\n",
            "94/94 [==============================] - 3s 29ms/step\n",
            "125/125 [==============================] - 3s 27ms/step\n"
          ]
        }
      ]
    },
    {
      "cell_type": "code",
      "source": [
        "print(classification_report(y_test.to_numpy(), test_predictions_baseline>.5))\n",
        "\n",
        "plot_cm(y_test, test_predictions_baseline)"
      ],
      "metadata": {
        "colab": {
          "base_uri": "https://localhost:8080/",
          "height": 837
        },
        "outputId": "c6c67923-eecc-4858-ba48-10813963a377",
        "id": "OJRQv_YAT7Zv"
      },
      "execution_count": null,
      "outputs": [
        {
          "output_type": "stream",
          "name": "stderr",
          "text": [
            "/usr/local/lib/python3.10/dist-packages/sklearn/metrics/_classification.py:1344: UndefinedMetricWarning: Precision and F-score are ill-defined and being set to 0.0 in labels with no predicted samples. Use `zero_division` parameter to control this behavior.\n",
            "  _warn_prf(average, modifier, msg_start, len(result))\n",
            "/usr/local/lib/python3.10/dist-packages/sklearn/metrics/_classification.py:1344: UndefinedMetricWarning: Precision and F-score are ill-defined and being set to 0.0 in labels with no predicted samples. Use `zero_division` parameter to control this behavior.\n",
            "  _warn_prf(average, modifier, msg_start, len(result))\n",
            "/usr/local/lib/python3.10/dist-packages/sklearn/metrics/_classification.py:1344: UndefinedMetricWarning: Precision and F-score are ill-defined and being set to 0.0 in labels with no predicted samples. Use `zero_division` parameter to control this behavior.\n",
            "  _warn_prf(average, modifier, msg_start, len(result))\n"
          ]
        },
        {
          "output_type": "stream",
          "name": "stdout",
          "text": [
            "              precision    recall  f1-score   support\n",
            "\n",
            "           0       1.00      1.00      1.00    249937\n",
            "           1       0.00      0.00      0.00        63\n",
            "\n",
            "    accuracy                           1.00    250000\n",
            "   macro avg       0.50      0.50      0.50    250000\n",
            "weighted avg       1.00      1.00      1.00    250000\n",
            "\n",
            " TN(True Negatives):  249937\n",
            " FP(False Positives):  0\n",
            " FN(False Negatives):  63\n",
            " TP(True Positives):  0\n"
          ]
        },
        {
          "output_type": "display_data",
          "data": {
            "text/plain": [
              "<Figure size 500x500 with 2 Axes>"
            ],
            "image/png": "[encoded data removed]"
          },
          "metadata": {}
        }
      ]
    },
    {
      "cell_type": "markdown",
      "source": [
        "<p> As expected both models overfit on the data and though they tend to classifiy correctly each class, they can't actually differiante each class.</p>\n",
        "<p> To tackle this, we are going to combined both models in our Combiner Model shown below.</p>"
      ],
      "metadata": {
        "id": "27KtOxNeUBOX"
      }
    },
    {
      "cell_type": "markdown",
      "source": [
        "<h3> Training the Combiner Model</h3>\n",
        "\n",
        "<p> Here we are going to oversample the minority class(positive) in oder to have a balanced dataset in instead used the oversampled data to train our Combiner model.</p>"
      ],
      "metadata": {
        "id": "OsAVQSU0Ne9a"
      }
    },
    {
      "cell_type": "code",
      "source": [
        "# Oversample the dataset with SMOTE\n",
        "from collections import Counter\n",
        "from sklearn.datasets import make_classification\n",
        "from imblearn.over_sampling import SMOTE\n",
        "from matplotlib import pyplot\n",
        "from numpy import where\n",
        "#oversample the minority class\n",
        "# transform the dataset\n",
        "oversample = SMOTE()\n",
        "x_train_2_over_s, y_train_2_over_s = oversample.fit_resample(x_train, y_train)\n",
        "# summarize the new class distribution\n",
        "#counter = Counter(y)\n",
        "counter=Counter(y_train_2_over_s)\n",
        "print(counter)"
      ],
      "metadata": {
        "colab": {
          "base_uri": "https://localhost:8080/"
        },
        "id": "YkjxpXGaB9Xt",
        "outputId": "33c4be15-d0dc-40b4-8730-65398f4af459"
      },
      "execution_count": null,
      "outputs": [
        {
          "output_type": "stream",
          "name": "stdout",
          "text": [
            "Counter({0: 562373, 1: 562373})\n"
          ]
        }
      ]
    },
    {
      "cell_type": "markdown",
      "source": [
        "<p> As we are combining both models, we are going to have the two outputs as target for our Combiner Model.</p>\n",
        "<p> Because of that we need to turn our target into a 2 dimensional array.</p>"
      ],
      "metadata": {
        "id": "i-Kwg9GLN98V"
      }
    },
    {
      "cell_type": "code",
      "source": [
        "def map_to_array(x):\n",
        "  if(x==0):\n",
        "    return np.array([1,0])\n",
        "  else:\n",
        "    return np.array([0,1])\n",
        "\n",
        "#mapping each sample to the equivalent array\n",
        "y_train_2_over_s_2=np.array(list(map(map_to_array,y_train_2_over_s)))\n",
        "print(y_train_2_over_s_2.shape)"
      ],
      "metadata": {
        "colab": {
          "base_uri": "https://localhost:8080/"
        },
        "id": "iLIh8VOnDA-y",
        "outputId": "6c515f4d-0e07-44fa-864a-50b712e9b7bd"
      },
      "execution_count": null,
      "outputs": [
        {
          "output_type": "stream",
          "name": "stdout",
          "text": [
            "(1124746, 2)\n"
          ]
        }
      ]
    },
    {
      "cell_type": "markdown",
      "source": [
        "<p>Now, we'll need the number of steps per epoch.\n",
        "\n",
        "The definition of \"epoch\" here is going to be the number of batches required to see each negative example once:\n",
        "</p>"
      ],
      "metadata": {
        "id": "ASabrPMBokAJ"
      }
    },
    {
      "cell_type": "code",
      "source": [
        "neg=562373\n",
        "resampled_steps_per_epoch = np.ceil(2.0*neg/BATCH_SIZE)\n",
        "resampled_steps_per_epoch"
      ],
      "metadata": {
        "colab": {
          "base_uri": "https://localhost:8080/"
        },
        "id": "jC4tDslUojXF",
        "outputId": "3765957c-ec4f-4b5d-c497-6ae5b6bf2f69"
      },
      "execution_count": null,
      "outputs": [
        {
          "output_type": "execute_result",
          "data": {
            "text/plain": [
              "563.0"
            ]
          },
          "metadata": {},
          "execution_count": 57
        }
      ]
    },
    {
      "cell_type": "markdown",
      "source": [
        "<p>Now let's remove the final layer in both models and combine them using our combiner model.</p>"
      ],
      "metadata": {
        "id": "wXw99ihZC-FO"
      }
    },
    {
      "cell_type": "code",
      "source": [
        "#reloads models\n",
        "model_weights_train_pos = os.path.join('/', 'model_weights_train_pos')\n",
        "#transformer_os.load_weights(model_weights_train) #,by_name=True,skip_mismatch=True)\n",
        "model_pos.load_weights(model_weights_train_pos)\n",
        "\n",
        "\n",
        "model_weights_train_neg = os.path.join('/', 'model_weights_train_neg')\n",
        "model_neg.load_weights(model_weights_train_neg)\n",
        "\n",
        "model_pos.pop()\n",
        "model_neg.pop()\n",
        "\n",
        "model_pos.trainable=False\n",
        "model_neg.trainable=False\n",
        "\n",
        "\n"
      ],
      "metadata": {
        "id": "lQRK9JIo2jtB"
      },
      "execution_count": null,
      "outputs": []
    },
    {
      "cell_type": "code",
      "source": [
        "output_pos=model_pos(x)\n",
        "output_neg=model_neg(x)\n",
        "\n",
        "\n",
        "print(\"output_neg.shape:\",output_neg.shape)"
      ],
      "metadata": {
        "colab": {
          "base_uri": "https://localhost:8080/"
        },
        "id": "1c_-JUoPJNcH",
        "outputId": "5808a8af-471b-44e5-8b43-3103f0b7e021"
      },
      "execution_count": null,
      "outputs": [
        {
          "output_type": "stream",
          "name": "stdout",
          "text": [
            "output_neg.shape: (2000, 1100)\n"
          ]
        }
      ]
    },
    {
      "cell_type": "code",
      "source": [
        "#let's create an instance on the Combiner Model\n",
        "model_combined=Combiner(transformer_pos=model_pos,\n",
        "                        transformer_neg=model_neg)\n",
        "\n",
        "output=model_combined(x)\n",
        "print(\"output.shape:\",output.shape)\n",
        "model_combined.summary()\n"
      ],
      "metadata": {
        "colab": {
          "base_uri": "https://localhost:8080/"
        },
        "id": "mhNxhh27JHw5",
        "outputId": "ac5a75c4-42f1-42ac-a9cf-f03b5c1b72fe"
      },
      "execution_count": null,
      "outputs": [
        {
          "output_type": "stream",
          "name": "stdout",
          "text": [
            "output.shape: (2000, 2)\n",
            "Model: \"combiner\"\n",
            "_________________________________________________________________\n",
            " Layer (type)                Output Shape              Param #   \n",
            "=================================================================\n",
            " sequential_11 (Sequential)  (2000, 1100)              477133    \n",
            "                                                                 \n",
            " sequential_12 (Sequential)  (None, 1100)              477133    \n",
            "                                                                 \n",
            " layer_normalization_23 (La  multiple                  2400      \n",
            " yerNormalization)                                               \n",
            "                                                                 \n",
            " dense_24 (Dense)            multiple                  2641200   \n",
            "                                                                 \n",
            " dense_25 (Dense)            multiple                  1441200   \n",
            "                                                                 \n",
            " dense_26 (Dense)            multiple                  2402      \n",
            "                                                                 \n",
            "=================================================================\n",
            "Total params: 5041468 (19.23 MB)\n",
            "Trainable params: 4087202 (15.59 MB)\n",
            "Non-trainable params: 954266 (3.64 MB)\n",
            "_________________________________________________________________\n"
          ]
        }
      ]
    },
    {
      "cell_type": "markdown",
      "source": [
        "<p> Let's compile and run the model.</p>"
      ],
      "metadata": {
        "id": "TKlSxuyMVgfV"
      }
    },
    {
      "cell_type": "code",
      "source": [
        "#Metrics to be monitored\n",
        "METRICS = [\n",
        "      keras.metrics.CategoricalCrossentropy(name='cross entropy'),\n",
        "      keras.metrics.MeanSquaredError(name='Brier score'),\n",
        "      keras.metrics.CategoricalAccuracy(name='accuracy'),\n",
        "      keras.metrics.Precision(name='precision'),\n",
        "      keras.metrics.Recall(name='recall'),\n",
        "      keras.metrics.AUC(name='auc'),\n",
        "      keras.metrics.AUC(name='prc', curve='PR'), # precision-recall curve\n",
        "]\n",
        "\n",
        "model_combined.compile(\n",
        "    loss=keras.losses.CategoricalCrossentropy(),\n",
        "    optimizer=optimizer_2,\n",
        "    metrics=METRICS)\n"
      ],
      "metadata": {
        "id": "VGBj9J80GJ02"
      },
      "execution_count": null,
      "outputs": []
    },
    {
      "cell_type": "code",
      "source": [
        "EPOCHS =40 #\n",
        "BATCH_SIZE = 2000\n",
        "\n",
        "\n",
        "\n",
        "early_stopping = tf.keras.callbacks.EarlyStopping(\n",
        "    monitor='val_prc',\n",
        "    verbose=1,\n",
        "    patience=10,\n",
        "    mode='max',\n",
        "    restore_best_weights=True)\n",
        "\n",
        "\n",
        "baseline_history = model_combined.fit(\n",
        "    x_train_2_over_s,\n",
        "    y_train_2_over_s_2,\n",
        "    batch_size=BATCH_SIZE,\n",
        "    epochs=EPOCHS,\n",
        "    steps_per_epoch=563,\n",
        "    validation_data= (x_val_2, y_val_2))\n",
        "\n"
      ],
      "metadata": {
        "colab": {
          "base_uri": "https://localhost:8080/"
        },
        "id": "MPYt72k554Va",
        "outputId": "09a8eaae-3745-4ad0-f025-97d6b531272a"
      },
      "execution_count": null,
      "outputs": [
        {
          "output_type": "stream",
          "name": "stdout",
          "text": [
            "Epoch 1/40\n",
            "563/563 [==============================] - 51s 78ms/step - loss: 0.4675 - cross entropy: 0.4675 - Brier score: 0.1546 - accuracy: 0.7704 - precision: 0.7704 - recall: 0.7704 - auc: 0.8576 - prc: 0.8594 - val_loss: 0.3500 - val_cross entropy: 0.3500 - val_Brier score: 0.1109 - val_accuracy: 0.8427 - val_precision: 0.8427 - val_recall: 0.8427 - val_auc: 0.9249 - val_prc: 0.9264\n",
            "Epoch 2/40\n",
            "563/563 [==============================] - 44s 78ms/step - loss: 0.4241 - cross entropy: 0.4241 - Brier score: 0.1388 - accuracy: 0.7949 - precision: 0.7949 - recall: 0.7949 - auc: 0.8843 - prc: 0.8867 - val_loss: 0.4752 - val_cross entropy: 0.4752 - val_Brier score: 0.1578 - val_accuracy: 0.7635 - val_precision: 0.7635 - val_recall: 0.7635 - val_auc: 0.8547 - val_prc: 0.8580\n",
            "Epoch 3/40\n",
            "563/563 [==============================] - 49s 88ms/step - loss: 0.4215 - cross entropy: 0.4215 - Brier score: 0.1381 - accuracy: 0.7958 - precision: 0.7958 - recall: 0.7958 - auc: 0.8856 - prc: 0.8883 - val_loss: 0.3032 - val_cross entropy: 0.3032 - val_Brier score: 0.0944 - val_accuracy: 0.8684 - val_precision: 0.8684 - val_recall: 0.8684 - val_auc: 0.9457 - val_prc: 0.9471\n",
            "Epoch 4/40\n",
            "563/563 [==============================] - 50s 89ms/step - loss: 0.4156 - cross entropy: 0.4156 - Brier score: 0.1362 - accuracy: 0.7985 - precision: 0.7985 - recall: 0.7985 - auc: 0.8886 - prc: 0.8916 - val_loss: 0.3326 - val_cross entropy: 0.3326 - val_Brier score: 0.1056 - val_accuracy: 0.8491 - val_precision: 0.8491 - val_recall: 0.8491 - val_auc: 0.9333 - val_prc: 0.9356\n",
            "Epoch 5/40\n",
            "563/563 [==============================] - 45s 80ms/step - loss: 0.4095 - cross entropy: 0.4095 - Brier score: 0.1344 - accuracy: 0.8002 - precision: 0.8002 - recall: 0.8002 - auc: 0.8916 - prc: 0.8950 - val_loss: 0.4281 - val_cross entropy: 0.4281 - val_Brier score: 0.1432 - val_accuracy: 0.7799 - val_precision: 0.7799 - val_recall: 0.7799 - val_auc: 0.8778 - val_prc: 0.8834\n",
            "Epoch 6/40\n",
            "563/563 [==============================] - 45s 80ms/step - loss: 0.4025 - cross entropy: 0.4025 - Brier score: 0.1326 - accuracy: 0.8015 - precision: 0.8015 - recall: 0.8015 - auc: 0.8946 - prc: 0.8985 - val_loss: 0.4767 - val_cross entropy: 0.4767 - val_Brier score: 0.1633 - val_accuracy: 0.7417 - val_precision: 0.7417 - val_recall: 0.7417 - val_auc: 0.8484 - val_prc: 0.8581\n",
            "Epoch 7/40\n",
            "563/563 [==============================] - 50s 89ms/step - loss: 0.3737 - cross entropy: 0.3737 - Brier score: 0.1226 - accuracy: 0.8165 - precision: 0.8165 - recall: 0.8165 - auc: 0.9097 - prc: 0.9135 - val_loss: 0.3613 - val_cross entropy: 0.3613 - val_Brier score: 0.1181 - val_accuracy: 0.8285 - val_precision: 0.8285 - val_recall: 0.8285 - val_auc: 0.9239 - val_prc: 0.9278\n",
            "Epoch 8/40\n",
            "563/563 [==============================] - 50s 89ms/step - loss: 0.1709 - cross entropy: 0.1709 - Brier score: 0.0502 - accuracy: 0.9334 - precision: 0.9334 - recall: 0.9334 - auc: 0.9819 - prc: 0.9819 - val_loss: 0.2239 - val_cross entropy: 0.2239 - val_Brier score: 0.0652 - val_accuracy: 0.9127 - val_precision: 0.9127 - val_recall: 0.9127 - val_auc: 0.9744 - val_prc: 0.9738\n",
            "Epoch 9/40\n",
            "563/563 [==============================] - 50s 89ms/step - loss: 0.1055 - cross entropy: 0.1055 - Brier score: 0.0294 - accuracy: 0.9618 - precision: 0.9618 - recall: 0.9618 - auc: 0.9924 - prc: 0.9920 - val_loss: 0.3517 - val_cross entropy: 0.3517 - val_Brier score: 0.0966 - val_accuracy: 0.8747 - val_precision: 0.8747 - val_recall: 0.8747 - val_auc: 0.9491 - val_prc: 0.9464\n",
            "Epoch 10/40\n",
            "563/563 [==============================] - 50s 89ms/step - loss: 0.0850 - cross entropy: 0.0850 - Brier score: 0.0233 - accuracy: 0.9699 - precision: 0.9699 - recall: 0.9699 - auc: 0.9948 - prc: 0.9944 - val_loss: 0.2122 - val_cross entropy: 0.2122 - val_Brier score: 0.0577 - val_accuracy: 0.9252 - val_precision: 0.9252 - val_recall: 0.9252 - val_auc: 0.9784 - val_prc: 0.9765\n",
            "Epoch 11/40\n",
            "563/563 [==============================] - 50s 89ms/step - loss: 0.0753 - cross entropy: 0.0753 - Brier score: 0.0204 - accuracy: 0.9738 - precision: 0.9738 - recall: 0.9738 - auc: 0.9957 - prc: 0.9953 - val_loss: 0.3508 - val_cross entropy: 0.3508 - val_Brier score: 0.0897 - val_accuracy: 0.8859 - val_precision: 0.8859 - val_recall: 0.8859 - val_auc: 0.9541 - val_prc: 0.9496\n",
            "Epoch 12/40\n",
            "563/563 [==============================] - 50s 89ms/step - loss: 0.0693 - cross entropy: 0.0693 - Brier score: 0.0187 - accuracy: 0.9760 - precision: 0.9760 - recall: 0.9760 - auc: 0.9962 - prc: 0.9959 - val_loss: 0.2542 - val_cross entropy: 0.2542 - val_Brier score: 0.0664 - val_accuracy: 0.9150 - val_precision: 0.9150 - val_recall: 0.9150 - val_auc: 0.9718 - val_prc: 0.9689\n",
            "Epoch 13/40\n",
            "563/563 [==============================] - 50s 89ms/step - loss: 0.0654 - cross entropy: 0.0654 - Brier score: 0.0175 - accuracy: 0.9775 - precision: 0.9775 - recall: 0.9775 - auc: 0.9966 - prc: 0.9962 - val_loss: 0.1759 - val_cross entropy: 0.1759 - val_Brier score: 0.0465 - val_accuracy: 0.9405 - val_precision: 0.9405 - val_recall: 0.9405 - val_auc: 0.9841 - val_prc: 0.9823\n",
            "Epoch 14/40\n",
            "563/563 [==============================] - 50s 89ms/step - loss: 0.0609 - cross entropy: 0.0609 - Brier score: 0.0162 - accuracy: 0.9792 - precision: 0.9792 - recall: 0.9792 - auc: 0.9969 - prc: 0.9966 - val_loss: 0.1655 - val_cross entropy: 0.1655 - val_Brier score: 0.0434 - val_accuracy: 0.9442 - val_precision: 0.9442 - val_recall: 0.9442 - val_auc: 0.9857 - val_prc: 0.9839\n",
            "Epoch 15/40\n",
            "563/563 [==============================] - 50s 89ms/step - loss: 0.0595 - cross entropy: 0.0595 - Brier score: 0.0159 - accuracy: 0.9797 - precision: 0.9797 - recall: 0.9797 - auc: 0.9971 - prc: 0.9967 - val_loss: 0.2457 - val_cross entropy: 0.2457 - val_Brier score: 0.0628 - val_accuracy: 0.9204 - val_precision: 0.9204 - val_recall: 0.9204 - val_auc: 0.9739 - val_prc: 0.9706\n",
            "Epoch 16/40\n",
            "563/563 [==============================] - 50s 89ms/step - loss: 0.0567 - cross entropy: 0.0567 - Brier score: 0.0150 - accuracy: 0.9808 - precision: 0.9808 - recall: 0.9808 - auc: 0.9972 - prc: 0.9969 - val_loss: 0.1882 - val_cross entropy: 0.1882 - val_Brier score: 0.0493 - val_accuracy: 0.9368 - val_precision: 0.9368 - val_recall: 0.9368 - val_auc: 0.9824 - val_prc: 0.9803\n",
            "Epoch 17/40\n",
            "563/563 [==============================] - 50s 89ms/step - loss: 0.0545 - cross entropy: 0.0545 - Brier score: 0.0144 - accuracy: 0.9815 - precision: 0.9815 - recall: 0.9815 - auc: 0.9974 - prc: 0.9971 - val_loss: 0.2342 - val_cross entropy: 0.2342 - val_Brier score: 0.0594 - val_accuracy: 0.9247 - val_precision: 0.9247 - val_recall: 0.9247 - val_auc: 0.9758 - val_prc: 0.9727\n",
            "Epoch 18/40\n",
            "563/563 [==============================] - 46s 81ms/step - loss: 0.0537 - cross entropy: 0.0537 - Brier score: 0.0142 - accuracy: 0.9819 - precision: 0.9819 - recall: 0.9819 - auc: 0.9975 - prc: 0.9971 - val_loss: 0.2595 - val_cross entropy: 0.2595 - val_Brier score: 0.0644 - val_accuracy: 0.9191 - val_precision: 0.9191 - val_recall: 0.9191 - val_auc: 0.9724 - val_prc: 0.9687\n",
            "Epoch 19/40\n",
            "563/563 [==============================] - 50s 89ms/step - loss: 0.0522 - cross entropy: 0.0522 - Brier score: 0.0137 - accuracy: 0.9825 - precision: 0.9825 - recall: 0.9825 - auc: 0.9976 - prc: 0.9973 - val_loss: 0.3103 - val_cross entropy: 0.3103 - val_Brier score: 0.0734 - val_accuracy: 0.9092 - val_precision: 0.9092 - val_recall: 0.9092 - val_auc: 0.9649 - val_prc: 0.9597\n",
            "Epoch 20/40\n",
            "563/563 [==============================] - 50s 89ms/step - loss: 0.0510 - cross entropy: 0.0510 - Brier score: 0.0134 - accuracy: 0.9829 - precision: 0.9829 - recall: 0.9829 - auc: 0.9977 - prc: 0.9974 - val_loss: 0.2057 - val_cross entropy: 0.2057 - val_Brier score: 0.0514 - val_accuracy: 0.9347 - val_precision: 0.9347 - val_recall: 0.9347 - val_auc: 0.9806 - val_prc: 0.9778\n",
            "Epoch 21/40\n",
            "563/563 [==============================] - 50s 89ms/step - loss: 0.0499 - cross entropy: 0.0499 - Brier score: 0.0131 - accuracy: 0.9832 - precision: 0.9832 - recall: 0.9832 - auc: 0.9978 - prc: 0.9975 - val_loss: 0.2307 - val_cross entropy: 0.2307 - val_Brier score: 0.0570 - val_accuracy: 0.9279 - val_precision: 0.9279 - val_recall: 0.9279 - val_auc: 0.9769 - val_prc: 0.9736\n",
            "Epoch 22/40\n",
            "563/563 [==============================] - 50s 89ms/step - loss: 0.0487 - cross entropy: 0.0487 - Brier score: 0.0128 - accuracy: 0.9837 - precision: 0.9837 - recall: 0.9837 - auc: 0.9978 - prc: 0.9976 - val_loss: 0.3144 - val_cross entropy: 0.3144 - val_Brier score: 0.0759 - val_accuracy: 0.9048 - val_precision: 0.9048 - val_recall: 0.9048 - val_auc: 0.9635 - val_prc: 0.9585\n",
            "Epoch 23/40\n",
            "563/563 [==============================] - 50s 89ms/step - loss: 0.0480 - cross entropy: 0.0480 - Brier score: 0.0126 - accuracy: 0.9838 - precision: 0.9838 - recall: 0.9838 - auc: 0.9979 - prc: 0.9976 - val_loss: 0.2227 - val_cross entropy: 0.2227 - val_Brier score: 0.0562 - val_accuracy: 0.9288 - val_precision: 0.9288 - val_recall: 0.9288 - val_auc: 0.9778 - val_prc: 0.9748\n",
            "Epoch 24/40\n",
            "563/563 [==============================] - 45s 81ms/step - loss: 0.0465 - cross entropy: 0.0465 - Brier score: 0.0122 - accuracy: 0.9845 - precision: 0.9845 - recall: 0.9845 - auc: 0.9980 - prc: 0.9977 - val_loss: 0.2511 - val_cross entropy: 0.2511 - val_Brier score: 0.0612 - val_accuracy: 0.9232 - val_precision: 0.9232 - val_recall: 0.9232 - val_auc: 0.9741 - val_prc: 0.9702\n",
            "Epoch 25/40\n",
            "563/563 [==============================] - 50s 89ms/step - loss: 0.0465 - cross entropy: 0.0465 - Brier score: 0.0121 - accuracy: 0.9847 - precision: 0.9847 - recall: 0.9847 - auc: 0.9980 - prc: 0.9977 - val_loss: 0.3040 - val_cross entropy: 0.3040 - val_Brier score: 0.0745 - val_accuracy: 0.9067 - val_precision: 0.9067 - val_recall: 0.9067 - val_auc: 0.9650 - val_prc: 0.9604\n",
            "Epoch 26/40\n",
            "563/563 [==============================] - 50s 89ms/step - loss: 0.0455 - cross entropy: 0.0455 - Brier score: 0.0119 - accuracy: 0.9848 - precision: 0.9848 - recall: 0.9848 - auc: 0.9980 - prc: 0.9977 - val_loss: 0.2424 - val_cross entropy: 0.2424 - val_Brier score: 0.0599 - val_accuracy: 0.9245 - val_precision: 0.9245 - val_recall: 0.9245 - val_auc: 0.9751 - val_prc: 0.9716\n",
            "Epoch 27/40\n",
            "563/563 [==============================] - 50s 89ms/step - loss: 0.0444 - cross entropy: 0.0444 - Brier score: 0.0116 - accuracy: 0.9853 - precision: 0.9853 - recall: 0.9853 - auc: 0.9981 - prc: 0.9978 - val_loss: 0.2629 - val_cross entropy: 0.2629 - val_Brier score: 0.0623 - val_accuracy: 0.9226 - val_precision: 0.9226 - val_recall: 0.9226 - val_auc: 0.9728 - val_prc: 0.9686\n",
            "Epoch 28/40\n",
            "563/563 [==============================] - 50s 89ms/step - loss: 0.0441 - cross entropy: 0.0441 - Brier score: 0.0115 - accuracy: 0.9854 - precision: 0.9854 - recall: 0.9854 - auc: 0.9981 - prc: 0.9978 - val_loss: 0.2950 - val_cross entropy: 0.2950 - val_Brier score: 0.0705 - val_accuracy: 0.9119 - val_precision: 0.9119 - val_recall: 0.9119 - val_auc: 0.9671 - val_prc: 0.9622\n",
            "Epoch 29/40\n",
            "563/563 [==============================] - 50s 89ms/step - loss: 0.0443 - cross entropy: 0.0443 - Brier score: 0.0116 - accuracy: 0.9853 - precision: 0.9853 - recall: 0.9853 - auc: 0.9981 - prc: 0.9979 - val_loss: 0.2471 - val_cross entropy: 0.2471 - val_Brier score: 0.0603 - val_accuracy: 0.9245 - val_precision: 0.9245 - val_recall: 0.9245 - val_auc: 0.9746 - val_prc: 0.9708\n",
            "Epoch 30/40\n",
            "563/563 [==============================] - 50s 89ms/step - loss: 0.0432 - cross entropy: 0.0432 - Brier score: 0.0113 - accuracy: 0.9856 - precision: 0.9856 - recall: 0.9856 - auc: 0.9982 - prc: 0.9979 - val_loss: 0.2762 - val_cross entropy: 0.2762 - val_Brier score: 0.0654 - val_accuracy: 0.9186 - val_precision: 0.9186 - val_recall: 0.9186 - val_auc: 0.9708 - val_prc: 0.9663\n",
            "Epoch 31/40\n",
            "563/563 [==============================] - 45s 80ms/step - loss: 0.0428 - cross entropy: 0.0428 - Brier score: 0.0111 - accuracy: 0.9858 - precision: 0.9858 - recall: 0.9858 - auc: 0.9982 - prc: 0.9979 - val_loss: 0.2566 - val_cross entropy: 0.2566 - val_Brier score: 0.0625 - val_accuracy: 0.9215 - val_precision: 0.9215 - val_recall: 0.9215 - val_auc: 0.9731 - val_prc: 0.9691\n",
            "Epoch 32/40\n",
            "563/563 [==============================] - 50s 89ms/step - loss: 0.0422 - cross entropy: 0.0422 - Brier score: 0.0110 - accuracy: 0.9861 - precision: 0.9861 - recall: 0.9861 - auc: 0.9982 - prc: 0.9980 - val_loss: 0.2024 - val_cross entropy: 0.2024 - val_Brier score: 0.0495 - val_accuracy: 0.9379 - val_precision: 0.9379 - val_recall: 0.9379 - val_auc: 0.9811 - val_prc: 0.9780\n",
            "Epoch 33/40\n",
            "563/563 [==============================] - 46s 81ms/step - loss: 0.0420 - cross entropy: 0.0420 - Brier score: 0.0110 - accuracy: 0.9860 - precision: 0.9860 - recall: 0.9860 - auc: 0.9983 - prc: 0.9980 - val_loss: 0.2332 - val_cross entropy: 0.2332 - val_Brier score: 0.0539 - val_accuracy: 0.9336 - val_precision: 0.9336 - val_recall: 0.9336 - val_auc: 0.9774 - val_prc: 0.9733\n",
            "Epoch 34/40\n",
            "563/563 [==============================] - 50s 89ms/step - loss: 0.0415 - cross entropy: 0.0415 - Brier score: 0.0108 - accuracy: 0.9863 - precision: 0.9863 - recall: 0.9863 - auc: 0.9983 - prc: 0.9980 - val_loss: 0.2127 - val_cross entropy: 0.2127 - val_Brier score: 0.0505 - val_accuracy: 0.9370 - val_precision: 0.9370 - val_recall: 0.9370 - val_auc: 0.9801 - val_prc: 0.9767\n",
            "Epoch 35/40\n",
            "563/563 [==============================] - 50s 89ms/step - loss: 0.0413 - cross entropy: 0.0413 - Brier score: 0.0107 - accuracy: 0.9864 - precision: 0.9864 - recall: 0.9864 - auc: 0.9983 - prc: 0.9980 - val_loss: 0.3114 - val_cross entropy: 0.3114 - val_Brier score: 0.0723 - val_accuracy: 0.9106 - val_precision: 0.9106 - val_recall: 0.9106 - val_auc: 0.9656 - val_prc: 0.9603\n",
            "Epoch 36/40\n",
            "563/563 [==============================] - 45s 80ms/step - loss: 0.0405 - cross entropy: 0.0405 - Brier score: 0.0105 - accuracy: 0.9866 - precision: 0.9866 - recall: 0.9866 - auc: 0.9983 - prc: 0.9981 - val_loss: 0.2562 - val_cross entropy: 0.2562 - val_Brier score: 0.0613 - val_accuracy: 0.9235 - val_precision: 0.9235 - val_recall: 0.9235 - val_auc: 0.9737 - val_prc: 0.9696\n",
            "Epoch 37/40\n",
            "563/563 [==============================] - 50s 89ms/step - loss: 0.0405 - cross entropy: 0.0405 - Brier score: 0.0105 - accuracy: 0.9866 - precision: 0.9866 - recall: 0.9866 - auc: 0.9983 - prc: 0.9981 - val_loss: 0.2033 - val_cross entropy: 0.2033 - val_Brier score: 0.0495 - val_accuracy: 0.9380 - val_precision: 0.9380 - val_recall: 0.9380 - val_auc: 0.9809 - val_prc: 0.9778\n",
            "Epoch 38/40\n",
            "563/563 [==============================] - 45s 81ms/step - loss: 0.0401 - cross entropy: 0.0401 - Brier score: 0.0104 - accuracy: 0.9868 - precision: 0.9868 - recall: 0.9868 - auc: 0.9983 - prc: 0.9981 - val_loss: 0.2006 - val_cross entropy: 0.2006 - val_Brier score: 0.0476 - val_accuracy: 0.9406 - val_precision: 0.9406 - val_recall: 0.9406 - val_auc: 0.9817 - val_prc: 0.9785\n",
            "Epoch 39/40\n",
            "563/563 [==============================] - 45s 80ms/step - loss: 0.0396 - cross entropy: 0.0396 - Brier score: 0.0102 - accuracy: 0.9870 - precision: 0.9870 - recall: 0.9870 - auc: 0.9984 - prc: 0.9981 - val_loss: 0.2220 - val_cross entropy: 0.2220 - val_Brier score: 0.0531 - val_accuracy: 0.9339 - val_precision: 0.9339 - val_recall: 0.9339 - val_auc: 0.9785 - val_prc: 0.9749\n",
            "Epoch 40/40\n",
            "563/563 [==============================] - 45s 80ms/step - loss: 0.0393 - cross entropy: 0.0393 - Brier score: 0.0102 - accuracy: 0.9870 - precision: 0.9870 - recall: 0.9870 - auc: 0.9984 - prc: 0.9981 - val_loss: 0.2675 - val_cross entropy: 0.2675 - val_Brier score: 0.0633 - val_accuracy: 0.9214 - val_precision: 0.9214 - val_recall: 0.9214 - val_auc: 0.9720 - val_prc: 0.9676\n"
          ]
        }
      ]
    },
    {
      "cell_type": "markdown",
      "source": [
        "<p> Save the model.</p>"
      ],
      "metadata": {
        "id": "lUNMXAWUWBBl"
      }
    },
    {
      "cell_type": "code",
      "source": [
        "model_weights_train_combined = os.path.join('/', 'model_weights_train_combined')\n",
        "\n",
        "model_combined.save_weights( model_weights_train_combined)"
      ],
      "metadata": {
        "id": "G5P-x46McgXi"
      },
      "execution_count": null,
      "outputs": []
    },
    {
      "cell_type": "markdown",
      "source": [
        "<h4> Check Train History</h4>"
      ],
      "metadata": {
        "id": "mWgPeohGWKyW"
      }
    },
    {
      "cell_type": "code",
      "source": [
        "plot_metrics(baseline_history)"
      ],
      "metadata": {
        "colab": {
          "base_uri": "https://localhost:8080/",
          "height": 455
        },
        "id": "pg_c8yWfTtKq",
        "outputId": "4bdf34fa-14f0-4987-a370-f8b74b8cc031"
      },
      "execution_count": null,
      "outputs": [
        {
          "output_type": "display_data",
          "data": {
            "text/plain": [
              "<Figure size 640x480 with 4 Axes>"
            ],
            "image/png": "[encoded data removed]"
          },
          "metadata": {}
        }
      ]
    },
    {
      "cell_type": "markdown",
      "source": [
        "<h4> Evaluate metrics</h4>"
      ],
      "metadata": {
        "id": "hVmtjuw5WSXG"
      }
    },
    {
      "cell_type": "code",
      "source": [
        "train_predictions_baseline = model_combined.predict(x_train_2, batch_size=BATCH_SIZE)\n",
        "val_predictions_baseline = model_combined.predict(x_val_2, batch_size=BATCH_SIZE)\n",
        "test_predictions_baseline = model_combined.predict(x_test_2, batch_size=BATCH_SIZE)\n",
        "\n",
        "\n",
        "\n"
      ],
      "metadata": {
        "colab": {
          "base_uri": "https://localhost:8080/"
        },
        "id": "4QrewQtR3OYu",
        "outputId": "6ccf2123-fedd-4d4e-bcc1-37e193c2e8ad"
      },
      "execution_count": null,
      "outputs": [
        {
          "output_type": "stream",
          "name": "stdout",
          "text": [
            "282/282 [==============================] - 18s 58ms/step\n",
            "94/94 [==============================] - 5s 58ms/step\n",
            "125/125 [==============================] - 8s 60ms/step\n"
          ]
        }
      ]
    },
    {
      "cell_type": "code",
      "source": [
        "def plot_cm_2(cm):\n",
        "\n",
        "  plt.figure(figsize=(5,5))\n",
        "  sns.heatmap(cm, annot=True, fmt=\"d\")\n",
        "  plt.title('Confusion matrix ')\n",
        "  plt.ylabel('Actual label')\n",
        "  plt.xlabel('Predicted label')\n",
        "\n",
        "  print(' TN(True Negatives): ', cm[0][0])\n",
        "  print(' FP(False Positives): ', cm[0][1])\n",
        "  print(' FN(False Negatives): ', cm[1][0])\n",
        "  print(' TP(True Positives): ', cm[1][1])\n"
      ],
      "metadata": {
        "id": "dgQ5onJxYY7P"
      },
      "execution_count": null,
      "outputs": []
    },
    {
      "cell_type": "code",
      "source": [
        "from sklearn.metrics import classification_report, confusion_matrix\n",
        "\n",
        "#train set\n",
        "#print(classification_report(y_train_2.to_numpy().argmax(axis=1), train_predictions_baseline.argmax(axis=1)))\n",
        "#confusion_matrix(y_train_2.to_numpy().argmax(axis=1), train_predictions_baseline.argmax(axis=1))\n",
        "\n",
        "# val set\n",
        "#print(classification_report(y_val_2.to_numpy().argmax(axis=1), val_predictions_baseline.argmax(axis=1)))\n",
        "#cm_val=confusion_matrix(y_val_2.to_numpy().argmax(axis=1), val_predictions_baseline.argmax(axis=1))\n",
        "#print(cm_val)\n",
        "\n",
        "# test set\n",
        "print(classification_report(y_test_2.to_numpy().argmax(axis=1), test_predictions_baseline.argmax(axis=1)))\n",
        "cm_test=confusion_matrix(y_test_2.to_numpy().argmax(axis=1), test_predictions_baseline.argmax(axis=1))\n",
        "plot_cm_2(cm_test)\n"
      ],
      "metadata": {
        "colab": {
          "base_uri": "https://localhost:8080/",
          "height": 713
        },
        "id": "1GBWqMqX3b4d",
        "outputId": "732744b3-a6ea-4c50-b674-0c817c9260df"
      },
      "execution_count": null,
      "outputs": [
        {
          "output_type": "stream",
          "name": "stdout",
          "text": [
            "              precision    recall  f1-score   support\n",
            "\n",
            "           0       1.00      0.92      0.96    249937\n",
            "           1       0.00      0.16      0.00        63\n",
            "\n",
            "    accuracy                           0.92    250000\n",
            "   macro avg       0.50      0.54      0.48    250000\n",
            "weighted avg       1.00      0.92      0.96    250000\n",
            "\n",
            " TN(True Negatives):  230208\n",
            " FP(False Positives):  19729\n",
            " FN(False Negatives):  53\n",
            " TP(True Positives):  10\n"
          ]
        },
        {
          "output_type": "display_data",
          "data": {
            "text/plain": [
              "<Figure size 500x500 with 2 Axes>"
            ],
            "image/png": "[encoded data removed]"
          },
          "metadata": {}
        }
      ]
    },
    {
      "cell_type": "markdown",
      "source": [
        "<h3> Key Takeways </h3>\n",
        "<p> As we can see, dealing with imbalanced datasets can be complex. This complexity is usually due to the fact that there is not enough training samples for the minority class.</p>\n",
        "<p> As shown belown combining pretrained specialized models can produce better results as it forces the model to contain the information pertaining to the minority class.</p>\n",
        "<p> Training a single model would have tuned all its weights according to the class having the highest number of occurences. Which will eventually caused the model to loose the information of the minority class.</p>\n",
        "<p> This approach also allows the model to determine the weight of each feature as well as how much they impact the task at hand.</p>  \n",
        "<p> Of course, much still need to be done to find the appropriate model that can be used to handle such task more effectively. </p>\n",
        "<p> From the classification report above, one can see that a good model is the one which provide a good trade off between the <b> recall values</b> of both classes.</p>"
      ],
      "metadata": {
        "id": "hNPL6ACWpsxQ"
      }
    }
  ],
  "metadata": {
    "accelerator": "GPU",
    "colab": {
      "gpuType": "T4",
      "provenance": []
    },
    "kernelspec": {
      "display_name": "Python 3",
      "name": "python3"
    },
    "language_info": {
      "name": "python"
    }
  },
  "nbformat": 4,
  "nbformat_minor": 0
}